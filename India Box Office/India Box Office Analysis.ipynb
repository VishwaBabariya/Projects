{
 "cells": [
  {
   "cell_type": "code",
   "execution_count": 1,
   "id": "9d8c5296",
   "metadata": {},
   "outputs": [],
   "source": [
    "import pandas as pd"
   ]
  },
  {
   "cell_type": "code",
   "execution_count": 2,
   "id": "1b38a171",
   "metadata": {},
   "outputs": [],
   "source": [
    "boxoffice = pd.read_csv('boxoffice.csv')\n",
    "director = pd.read_csv('director.csv')\n",
    "genre = pd.read_csv('genre.csv')\n",
    "language = pd.read_csv('language.csv')"
   ]
  },
  {
   "cell_type": "code",
   "execution_count": 3,
   "id": "719486bd",
   "metadata": {},
   "outputs": [
    {
     "name": "stdout",
     "output_type": "stream",
     "text": [
      "     FilmID                     Title Release_Date Lead_Actor_Actress  \\\n",
      "0        34                     Sanju   29-06-2018      Ranbir Kapoor   \n",
      "1        36                    Simmba   28-12-2018      Ranveer Singh   \n",
      "2       225            Janatha Garage   01-09-2016  N.T. Rama Rao Jr.   \n",
      "3        13                   Kaththi   22-10-2014       Joseph Vijay   \n",
      "4        31                  Maanikya   01-05-2014    V. Ravichandran   \n",
      "..      ...                       ...          ...                ...   \n",
      "599     583                      Kill   05-07-2024            Lakshya   \n",
      "600     584           Madgaon Express   22-03-2024    Divyendu Sharma   \n",
      "601     591  Swatantrya Veer Savarkar   22-03-2024      Randeep Hooda   \n",
      "602     596           Laapataa Ladies   01-03-2024      Nitanshi Goel   \n",
      "603     597           Merry Christmas   12-01-2024   Vijay Sethupathi   \n",
      "\n",
      "       Industry  Budget  First_Day_Collection_Worldwide  Worldwide_Collection  \\\n",
      "0     Bollywood   100.0                           54.40                588.50   \n",
      "1     Bollywood   125.0                           20.20                390.00   \n",
      "2     Kollywood    50.0                           45.00                140.00   \n",
      "3     Kollywood    70.0                           25.00                117.50   \n",
      "4    Sandalwood    15.0                            3.50                 43.00   \n",
      "..          ...     ...                             ...                   ...   \n",
      "599   Bollywood    20.0                            1.50                 47.25   \n",
      "600   Bollywood    30.0                            1.80                 46.20   \n",
      "601   Bollywood    25.0                            1.50                 31.86   \n",
      "602   Bollywood     8.0                            1.40                 27.06   \n",
      "603   Bollywood    50.0                            3.45                 26.30   \n",
      "\n",
      "     Overseas_Collection  India_Gross_Collection  ... IMDb_Rating  \\\n",
      "0                 150.00                  438.50  ...         7.6   \n",
      "1                  95.00                  295.00  ...         5.5   \n",
      "2                  15.00                  125.00  ...         7.2   \n",
      "3                  29.00                   88.50  ...         8.1   \n",
      "4                   0.00                   43.00  ...         6.5   \n",
      "..                   ...                     ...  ...         ...   \n",
      "599                28.75                   28.75  ...         7.6   \n",
      "600                42.80                   42.80  ...         7.0   \n",
      "601                29.11                   29.11  ...         7.7   \n",
      "602                24.31                   24.31  ...         8.4   \n",
      "603                23.25                   23.25  ...         6.9   \n",
      "\n",
      "     Runtime_mins        OTT_Platform  Year  Month  Month_Name  Week_Name  \\\n",
      "0             155             Netflix  2018      6        June     Friday   \n",
      "1             158                ZEE5  2018     12    December     Friday   \n",
      "2             162     Disney+ Hotstar  2016      9   September   Thursday   \n",
      "3             166  Amazon Prime Video  2014     10     October  Wednesday   \n",
      "4             165                ZEE5  2014      5         May   Thursday   \n",
      "..            ...                 ...   ...    ...         ...        ...   \n",
      "599           105     Disney+ Hotstar  2024      7        July     Friday   \n",
      "600           143  Amazon Prime Video  2024      3       March     Friday   \n",
      "601           176                ZEE5  2024      3       March     Friday   \n",
      "602           122             Netflix  2024      3       March     Friday   \n",
      "603           144             Netflix  2024      1     January     Friday   \n",
      "\n",
      "                          Director                           Genre Language  \n",
      "0                  Rajkumar Hirani        Biography, Comedy, Drama    Hindi  \n",
      "1                     Rohit Shetty            Action, Crime, Drama    Hindi  \n",
      "2                    Koratala Siva            Action, Crime, Drama    Tamil  \n",
      "3                  A.R. Murugadoss                   Action, Drama    Tamil  \n",
      "4    Sudeep, Nanda Kishore, Mahesh                   Action, Drama  Kannada  \n",
      "..                             ...                             ...      ...  \n",
      "599             Nikhil Nagesh Bhat  Action, Crime, Drama, Thriller    Hindi  \n",
      "600                    Kunal Kemmu                   Comedy, Drama    Hindi  \n",
      "601                  Randeep Hooda                Biography, Drama    Hindi  \n",
      "602                      Kiran Rao                   Comedy, Drama    Hindi  \n",
      "603                Sriram Raghavan        Drama, Mystery, Thriller    Hindi  \n",
      "\n",
      "[604 rows x 21 columns]\n"
     ]
    }
   ],
   "source": [
    "bo = boxoffice.merge(director, on = 'DirectorID', how = 'left')\n",
    "bo = bo.merge(genre, on = 'GenreID', how = 'left')\n",
    "bo = bo.merge(language, on = 'LanguageID', how = 'left')\n",
    "bo = bo.drop(columns = ['DirectorID', 'GenreID', 'LanguageID'])\n",
    "bo = bo.rename(columns = {'Worldwide_Collection _in_Crores': 'Worldwide_Collection'})\n",
    "print(bo)"
   ]
  },
  {
   "cell_type": "code",
   "execution_count": 4,
   "id": "bbe46a39",
   "metadata": {},
   "outputs": [
    {
     "name": "stdout",
     "output_type": "stream",
     "text": [
      "Index(['FilmID', 'Title', 'Release_Date', 'Lead_Actor_Actress', 'Industry',\n",
      "       'Budget', 'First_Day_Collection_Worldwide', 'Worldwide_Collection',\n",
      "       'Overseas_Collection', 'India_Gross_Collection', 'Verdict',\n",
      "       'IMDb_Rating', 'Runtime_mins', 'OTT_Platform', 'Year', 'Month',\n",
      "       'Month_Name', 'Week_Name', 'Director', 'Genre', 'Language'],\n",
      "      dtype='object')\n"
     ]
    }
   ],
   "source": [
    "print(bo.columns)"
   ]
  },
  {
   "cell_type": "code",
   "execution_count": 5,
   "id": "ac074aa5",
   "metadata": {},
   "outputs": [
    {
     "name": "stdout",
     "output_type": "stream",
     "text": [
      "Total films released:  604\n"
     ]
    }
   ],
   "source": [
    "# 1) Write a query to get Total films released? \n",
    "print('Total films released: ', len(bo))"
   ]
  },
  {
   "cell_type": "code",
   "execution_count": 6,
   "id": "532425d9",
   "metadata": {},
   "outputs": [
    {
     "name": "stdout",
     "output_type": "stream",
     "text": [
      "Total Budget:  34653.0 crores\n"
     ]
    }
   ],
   "source": [
    "# 2) Write a query to get Total budget? \n",
    "print('Total Budget: ', sum(bo['Budget']), 'crores')"
   ]
  },
  {
   "cell_type": "code",
   "execution_count": 7,
   "id": "543a3445",
   "metadata": {},
   "outputs": [
    {
     "name": "stdout",
     "output_type": "stream",
     "text": [
      "Total Worldwide Collection:  79878.78999999998 crores\n"
     ]
    }
   ],
   "source": [
    "# 3) Write a query to get Total worldwide collection? \n",
    "print('Total Worldwide Collection: ', sum(bo['Worldwide_Collection']), 'crores')"
   ]
  },
  {
   "cell_type": "code",
   "execution_count": 8,
   "id": "06de662e",
   "metadata": {},
   "outputs": [
    {
     "name": "stdout",
     "output_type": "stream",
     "text": [
      "Total First Day Collection Worldwide:  11070.270000000006 crores\n"
     ]
    }
   ],
   "source": [
    "# 4) Write a query to get Total First day collection worldwide? \n",
    "print('Total First Day Collection Worldwide: ', sum(bo['First_Day_Collection_Worldwide']), 'crores')"
   ]
  },
  {
   "cell_type": "code",
   "execution_count": 9,
   "id": "50052bf5",
   "metadata": {},
   "outputs": [
    {
     "name": "stdout",
     "output_type": "stream",
     "text": [
      "Total Overseas Collection:  20953.07000000001 crores\n"
     ]
    }
   ],
   "source": [
    "# 5) Write a query to get Total Overseas collection? \n",
    "print('Total Overseas Collection: ', sum(bo['Overseas_Collection']), 'crores')"
   ]
  },
  {
   "cell_type": "code",
   "execution_count": 10,
   "id": "dad74913",
   "metadata": {},
   "outputs": [
    {
     "name": "stdout",
     "output_type": "stream",
     "text": [
      "Total India Gross Collection:  60064.10000000004 crores\n"
     ]
    }
   ],
   "source": [
    "# 6) Write a query to get Total India Gross collection? \n",
    "print('Total India Gross Collection: ', sum(bo['India_Gross_Collection']), 'crores')"
   ]
  },
  {
   "cell_type": "code",
   "execution_count": 11,
   "id": "38858b42",
   "metadata": {},
   "outputs": [
    {
     "name": "stdout",
     "output_type": "stream",
     "text": [
      "     FilmID                       Title Release_Date Lead_Actor_Actress  \\\n",
      "524     213                      Dangal   22-12-2016         Aamir Khan   \n",
      "396     104  Bãhubali 2: The Conclusion   28-04-2017            Prabhas   \n",
      "45      286      RRR (Rise Roar Revolt)   25-03-2022  N.T. Rama Rao Jr.   \n",
      "149     287            K.G.F: Chapter 2   13-04-2022               Yash   \n",
      "572     463                       Jawan   07-09-2023     Shah Rukh Khan   \n",
      "573     464                     Pathaan   25-01-2023     Shah Rukh Khan   \n",
      "126     540               Kalki 2898-AD   27-06-2024            Prabhas   \n",
      "503     181           Bajrangi Bhaijaan   17-07-2015        Salman Khan   \n",
      "114     465                      Animal   01-12-2023      Ranbir Kapoor   \n",
      "46      105            Secret Superstar   19-10-2017        Zaira Wasim   \n",
      "\n",
      "       Industry  Budget  First_Day_Collection_Worldwide  Worldwide_Collection  \\\n",
      "524   Bollywood    70.0                            58.0               2122.30   \n",
      "396   Tollywood   250.0                           217.0               1788.00   \n",
      "45    Tollywood   550.0                           223.0               1230.00   \n",
      "149  Sandalwood   100.0                           159.0               1215.00   \n",
      "572   Bollywood   300.0                           129.1               1160.00   \n",
      "573   Bollywood   250.0                           104.8               1055.00   \n",
      "126   Tollywood   500.0                           177.7               1042.25   \n",
      "503   Bollywood    90.0                            27.2                922.10   \n",
      "114   Bollywood   150.0                           116.0                915.00   \n",
      "46    Bollywood    50.0                             5.0                912.60   \n",
      "\n",
      "     Overseas_Collection  India_Gross_Collection  ... IMDb_Rating  \\\n",
      "524              1535.30                  587.00  ...         8.3   \n",
      "396               371.00                 1417.00  ...         8.2   \n",
      "45                314.15                  915.85  ...         7.8   \n",
      "149               214.15                 1000.85  ...         8.2   \n",
      "572               400.00                  760.00  ...         6.9   \n",
      "573               397.50                  657.50  ...         5.8   \n",
      "126               275.00                  767.25  ...         7.0   \n",
      "503               489.70                  432.40  ...         8.1   \n",
      "114               255.00                  660.00  ...         6.1   \n",
      "46                831.40                   81.20  ...         7.8   \n",
      "\n",
      "     Runtime_mins        OTT_Platform  Year  Month  Month_Name  Week_Name  \\\n",
      "524           161     Disney+ Hotstar  2016     12    December   Thursday   \n",
      "396           167             Netflix  2017      4       April     Friday   \n",
      "45            187             Netflix  2022      3       March     Friday   \n",
      "149           166  Amazon Prime Video  2022      4       April  Wednesday   \n",
      "572           169             Netflix  2023      9   September   Thursday   \n",
      "573           146  Amazon Prime Video  2023      1     January  Wednesday   \n",
      "126           180  Amazon Prime Video  2024      6        June   Thursday   \n",
      "503           163     Disney+ Hotstar  2015      7        July     Friday   \n",
      "114           204             Netflix  2023     12    December     Friday   \n",
      "46            150  Amazon Prime Video  2017     10     October   Thursday   \n",
      "\n",
      "                Director                                              Genre  \\\n",
      "524        Nitesh Tiwari                    Action, Biography, Drama, Sport   \n",
      "396       S.S. Rajamouli                                      Action, Drama   \n",
      "45        S.S. Rajamouli                           Action, Adventure, Drama   \n",
      "149       Prashanth Neel                     Action, Crime, Drama, Thriller   \n",
      "572                Atlee                     Action, Crime, Drama, Thriller   \n",
      "573      Siddharth Anand                        Action, Adventure, Thriller   \n",
      "126           Nag Ashwin  Action, Adventure, Drama, Fantasy, Sci-Fi, Thr...   \n",
      "503           Kabir Khan                   Action, Adventure, Comedy, Drama   \n",
      "114  Sandeep Reddy Vanga                     Action, Crime, Drama, Thriller   \n",
      "46        Advait Chandan                                       Drama, Music   \n",
      "\n",
      "    Language  \n",
      "524    Hindi  \n",
      "396   Telugu  \n",
      "45    Telugu  \n",
      "149  Kannada  \n",
      "572    Hindi  \n",
      "573    Hindi  \n",
      "126   Telugu  \n",
      "503    Hindi  \n",
      "114    Hindi  \n",
      "46     Hindi  \n",
      "\n",
      "[10 rows x 21 columns]\n"
     ]
    }
   ],
   "source": [
    "# 7) Top 10 films based on world wide collections. Display films, collections.\n",
    "ww_collection = bo.sort_values(by = 'Worldwide_Collection', ascending = False)\n",
    "print(ww_collection[:10])"
   ]
  },
  {
   "cell_type": "code",
   "execution_count": 12,
   "id": "815c7ec6",
   "metadata": {},
   "outputs": [
    {
     "name": "stdout",
     "output_type": "stream",
     "text": [
      "    Year  Total_Films\n",
      "0   2014           32\n",
      "1   2015           32\n",
      "2   2016           41\n",
      "3   2017           72\n",
      "4   2018           71\n",
      "5   2019           74\n",
      "6   2020           27\n",
      "7   2021           31\n",
      "8   2022           80\n",
      "9   2023           79\n",
      "10  2024           65\n"
     ]
    }
   ],
   "source": [
    "# 8) Total Number of films released by year.\n",
    "films_by_year = bo.groupby('Year')['FilmID'].count().reset_index()\n",
    "films_by_year.columns = ['Year', 'Total_Films']\n",
    "print(films_by_year)\n",
    "    "
   ]
  },
  {
   "cell_type": "code",
   "execution_count": 13,
   "id": "f99e2540",
   "metadata": {},
   "outputs": [
    {
     "name": "stdout",
     "output_type": "stream",
     "text": [
      "                          Title  India_Gross_Collection\n",
      "396  Bãhubali 2: The Conclusion                 1417.00\n",
      "149            K.G.F: Chapter 2                 1000.85\n",
      "45       RRR (Rise Roar Revolt)                  915.85\n",
      "126               Kalki 2898-AD                  767.25\n",
      "572                       Jawan                  760.00\n",
      "127  Stree 2: Sarkate Ka Aatank                  713.07\n",
      "114                      Animal                  660.00\n",
      "573                     Pathaan                  657.50\n",
      "115                     Gadar 2                  620.50\n",
      "524                      Dangal                  587.00\n"
     ]
    }
   ],
   "source": [
    "# 9) Top 10 films based on india collections. Display films, collections. \n",
    "top_10_ic = bo[['Title', 'India_Gross_Collection']].sort_values(by = 'India_Gross_Collection', ascending = False).head(10)\n",
    "print(top_10_ic)"
   ]
  },
  {
   "cell_type": "code",
   "execution_count": 14,
   "id": "5ae5edf5-fd03-49a9-909d-25969f5c8d5a",
   "metadata": {},
   "outputs": [
    {
     "name": "stdout",
     "output_type": "stream",
     "text": [
      "                          Title  Overseas_Collection\n",
      "524                      Dangal              1535.30\n",
      "46             Secret Superstar               831.40\n",
      "503           Bajrangi Bhaijaan               489.70\n",
      "572                       Jawan               400.00\n",
      "573                     Pathaan               397.50\n",
      "396  Bãhubali 2: The Conclusion               371.00\n",
      "45       RRR (Rise Roar Revolt)               314.15\n",
      "460                          PK               303.00\n",
      "126               Kalki 2898-AD               275.00\n",
      "114                      Animal               255.00\n"
     ]
    }
   ],
   "source": [
    "# 10) Top 10 films based on overseas collections. Display films, collections. \n",
    "top_10_oc = bo[['Title', 'Overseas_Collection']].sort_values(by = 'Overseas_Collection', ascending = False).head(10)\n",
    "print(top_10_oc)"
   ]
  },
  {
   "cell_type": "code",
   "execution_count": 15,
   "id": "4659f59d-1f8e-4a4d-9567-b5c3690c5518",
   "metadata": {},
   "outputs": [
    {
     "name": "stdout",
     "output_type": "stream",
     "text": [
      "                          Title  First_Day_Collection_Worldwide\n",
      "45       RRR (Rise Roar Revolt)                           223.0\n",
      "396  Bãhubali 2: The Conclusion                           217.0\n",
      "126               Kalki 2898-AD                           177.7\n",
      "149            K.G.F: Chapter 2                           159.0\n",
      "212  Salaar: Part 1 - Ceasefire                           158.1\n",
      "116                         Leo                           142.7\n",
      "455              Devara: Part 1                           142.0\n",
      "572                       Jawan                           129.1\n",
      "213                   Adipurush                           127.5\n",
      "114                      Animal                           116.0\n"
     ]
    }
   ],
   "source": [
    "# 11) Top 10 films based on firstday collections. Display films, collections. \n",
    "top_10_fdc = bo[['Title', 'First_Day_Collection_Worldwide']].sort_values(by = 'First_Day_Collection_Worldwide', ascending = False).head(10)\n",
    "print(top_10_fdc)"
   ]
  },
  {
   "cell_type": "code",
   "execution_count": 16,
   "id": "ad49278b-0669-4950-84ce-9856c34149dd",
   "metadata": {},
   "outputs": [
    {
     "name": "stdout",
     "output_type": "stream",
     "text": [
      "   Week_Name  Total_Films\n",
      "0     Friday          423\n",
      "1   Saturday           10\n",
      "2     Sunday            7\n",
      "3   Thursday          124\n",
      "4    Tuesday            5\n",
      "5  Wednesday           35\n"
     ]
    }
   ],
   "source": [
    "# 12) Weekday wise films released. Display week name and number of films released.\n",
    "films_by_weekday = bo.groupby('Week_Name')['FilmID'].count().reset_index()\n",
    "films_by_weekday.columns = ['Week_Name', 'Total_Films']\n",
    "print(films_by_weekday)"
   ]
  },
  {
   "cell_type": "code",
   "execution_count": 17,
   "id": "bd440f25-cff9-44c6-be71-3ec81c46cc2f",
   "metadata": {},
   "outputs": [
    {
     "name": "stdout",
     "output_type": "stream",
     "text": [
      "         OTT_Platform  Total_Films\n",
      "0                 Aha            8\n",
      "1  Amazon Prime Video          384\n",
      "2     Disney+ Hotstar           54\n",
      "3  Google Play Movies            1\n",
      "4           JioCinema            3\n",
      "5             Netflix           99\n",
      "6             SonyLIV            4\n",
      "7             Sun NXT           11\n",
      "8                Voot            1\n",
      "9                ZEE5           39\n"
     ]
    }
   ],
   "source": [
    "# 13) Write a query to get OTT platform wise movies count \n",
    "films_by_ott = bo.groupby('OTT_Platform')['FilmID'].count().reset_index()\n",
    "films_by_ott.columns = ['OTT_Platform', 'Total_Films']\n",
    "print(films_by_ott)"
   ]
  },
  {
   "cell_type": "code",
   "execution_count": 18,
   "id": "8d0c722c-3fe2-4077-bfde-37a78a262619",
   "metadata": {},
   "outputs": [
    {
     "name": "stdout",
     "output_type": "stream",
     "text": [
      "               Director  Total_Films\n",
      "345  Trivikram Srinivas            6\n",
      "266        Rohit Shetty            6\n",
      "0       A.R. Murugadoss            5\n",
      "313                Siva            5\n",
      "34        Anil Ravipudi            5\n",
      "67       Boyapati Srinu            5\n",
      "147       Koratala Siva            5\n",
      "261        Remo D'Souza            4\n",
      "55                Atlee            4\n",
      "311     Siddharth Anand            4\n"
     ]
    }
   ],
   "source": [
    "# 14) Top 10 Directors by films released \n",
    "films_by_director = bo.groupby('Director')['Title'].count().reset_index()\n",
    "films_by_director.columns = ['Director', 'Total_Films']\n",
    "top_10_d = films_by_director[['Director', 'Total_Films']].sort_values(by = 'Total_Films', ascending = False).head(10)\n",
    "print(top_10_d)"
   ]
  },
  {
   "cell_type": "code",
   "execution_count": 19,
   "id": "bd65a032-0859-431d-a5eb-56075afa2b28",
   "metadata": {},
   "outputs": [
    {
     "name": "stdout",
     "output_type": "stream",
     "text": [
      "                Director  Total_Worldwide_Collection\n",
      "272       S.S. Rajamouli                     3668.00\n",
      "311      Siddharth Anand                     2229.45\n",
      "203        Nitesh Tiwari                     2122.30\n",
      "222       Prashanth Neel                     2101.75\n",
      "55                 Atlee                     1865.35\n",
      "250      Rajkumar Hirani                     1834.50\n",
      "266         Rohit Shetty                     1656.60\n",
      "156     Lokesh Kanagaraj                     1350.13\n",
      "287  Sandeep Reddy Vanga                     1342.00\n",
      "134           Kabir Khan                     1220.55\n"
     ]
    }
   ],
   "source": [
    "# 15) Top 10 directors by world wide collection \n",
    "films_by_director_wwc = bo.groupby('Director')['Worldwide_Collection'].sum().reset_index()\n",
    "films_by_director_wwc.columns = ['Director', 'Total_Worldwide_Collection']\n",
    "top_10_d = films_by_director_wwc[['Director', 'Total_Worldwide_Collection']].sort_values(by = 'Total_Worldwide_Collection', ascending = False).head(10)\n",
    "print(top_10_d)"
   ]
  },
  {
   "cell_type": "code",
   "execution_count": 20,
   "id": "8754ea85-c317-4bb7-ae94-8a33eeb019ee",
   "metadata": {},
   "outputs": [
    {
     "name": "stdout",
     "output_type": "stream",
     "text": [
      "    Lead_Actor_Actress  Total_Worldwide_Collection\n",
      "90             Prabhas                     5091.50\n",
      "119        Salman Khan                     4515.20\n",
      "123     Shah Rukh Khan                     3800.10\n",
      "7         Akshay Kumar                     3168.22\n",
      "51        Joseph Vijay                     3076.11\n",
      "0           Aamir Khan                     2914.30\n",
      "102        Rajinikanth                     2695.55\n",
      "4           Ajay Devgn                     2571.21\n",
      "70   N.T. Rama Rao Jr.                     2242.60\n",
      "109      Ranbir Kapoor                     2111.25\n"
     ]
    }
   ],
   "source": [
    "# 16) Top 10 lead actors by world wide collection\n",
    "actors_by_wwc = bo.groupby('Lead_Actor_Actress')['Worldwide_Collection'].sum().reset_index()\n",
    "actors_by_wwc.columns = ['Lead_Actor_Actress', 'Total_Worldwide_Collection']\n",
    "top_10_a = actors_by_wwc[['Lead_Actor_Actress', 'Total_Worldwide_Collection']].sort_values(by = 'Total_Worldwide_Collection', ascending = False).head(10)\n",
    "print(top_10_a)"
   ]
  },
  {
   "cell_type": "code",
   "execution_count": 21,
   "id": "fc61014e-1a6e-4a77-905a-31b7d233528c",
   "metadata": {},
   "outputs": [
    {
     "name": "stdout",
     "output_type": "stream",
     "text": [
      "                          Title  IMDb_Rating\n",
      "121                   12th Fail          8.8\n",
      "316  Rocketry: The Nambi Effect          8.7\n",
      "83                  777 Charlie          8.7\n",
      "140          Kishkindha Kaandam          8.6\n",
      "79            The Kashmir Files          8.6\n",
      "437                      Jersey          8.5\n",
      "25                           96          8.5\n",
      "512                      Sachin          8.5\n",
      "350                 Meiyazhagan          8.5\n",
      "204           Kumbalangi Nights          8.5\n"
     ]
    }
   ],
   "source": [
    "# 17) Top 10 movies by IMDb rating \n",
    "top_10_imdb = bo[['Title', 'IMDb_Rating']].sort_values(by = 'IMDb_Rating', ascending = False).head(10)\n",
    "print(top_10_imdb)"
   ]
  },
  {
   "cell_type": "code",
   "execution_count": 22,
   "id": "2bc07f4c-f2c4-4b25-8cef-5a2c5812d073",
   "metadata": {},
   "outputs": [
    {
     "name": "stdout",
     "output_type": "stream",
     "text": [
      "                     Title  IMDb_Rating\n",
      "468                 Race 3          1.9\n",
      "491               Baaghi 3          2.2\n",
      "571  Student of the Year 2          2.2\n",
      "496            Heropanti 2          2.3\n",
      "338         Chandramukhi 2          2.6\n",
      "417                  Liger          2.6\n",
      "478                 Gunday          2.7\n",
      "213              Adipurush          2.7\n",
      "565              Dabangg 3          3.0\n",
      "495          A Flying Jatt          3.1\n"
     ]
    }
   ],
   "source": [
    "# 18) Bottom 10 movies by IMDb rating \n",
    "bottom_10_imdb = bo[['Title', 'IMDb_Rating']].sort_values(by = 'IMDb_Rating', ascending = True).head(10)\n",
    "print(bottom_10_imdb)"
   ]
  },
  {
   "cell_type": "code",
   "execution_count": 23,
   "id": "5e943a9b-6e1c-4b97-8983-1353b26dea4c",
   "metadata": {},
   "outputs": [
    {
     "name": "stdout",
     "output_type": "stream",
     "text": [
      "                      Title  Runtime_mins\n",
      "114                  Animal           204\n",
      "39                        I           188\n",
      "45   RRR (Rise Roar Revolt)           187\n",
      "103    Avane Srimannarayana           186\n",
      "261                   Jilla           185\n"
     ]
    }
   ],
   "source": [
    "# 19) Write a query to get 5 longest run time movies \n",
    "long_rt = bo[['Title', 'Runtime_mins']].sort_values(by = 'Runtime_mins', ascending = False).head(5)\n",
    "print(long_rt)"
   ]
  },
  {
   "cell_type": "code",
   "execution_count": 24,
   "id": "07f1c197-fa1d-4608-b19b-83cde9228c4e",
   "metadata": {},
   "outputs": [
    {
     "name": "stdout",
     "output_type": "stream",
     "text": [
      "                                  Title  Runtime_mins\n",
      "599                                Kill           105\n",
      "497                      Raksha Bandhan           108\n",
      "560  Bhoot: Part One - The Haunted Ship           114\n",
      "477                              Hichki           116\n",
      "407                    The Ghazi Attack           116\n"
     ]
    }
   ],
   "source": [
    "# 20) Write a query to get 5 shortest run time movies\n",
    "short_rt = bo[['Title', 'Runtime_mins']].sort_values(by = 'Runtime_mins', ascending = True).head(5)\n",
    "print(short_rt)"
   ]
  },
  {
   "cell_type": "code",
   "execution_count": 25,
   "id": "f921befa-8b3c-409a-8587-be0679635e32",
   "metadata": {},
   "outputs": [
    {
     "name": "stdout",
     "output_type": "stream",
     "text": [
      "                          Title  Worldwide_Collection\n",
      "524                      Dangal               2122.30\n",
      "572                       Jawan               1160.00\n",
      "573                     Pathaan               1055.00\n",
      "503           Bajrangi Bhaijaan                922.10\n",
      "114                      Animal                915.00\n",
      "46             Secret Superstar                912.60\n",
      "127  Stree 2: Sarkate Ka Aatank                857.07\n"
     ]
    }
   ],
   "source": [
    "# 21) Top 7 movies by world wide collection in Bollywood \n",
    "bollywood_df = bo[bo['Industry'] == 'Bollywood']\n",
    "top_7_wwc_b = bollywood_df[['Title', 'Worldwide_Collection']].sort_values(by = 'Worldwide_Collection', ascending = False).head(7)\n",
    "print(top_7_wwc_b)"
   ]
  },
  {
   "cell_type": "code",
   "execution_count": 26,
   "id": "e02e309a-f8e4-4c38-88b7-dc598b2c591c",
   "metadata": {},
   "outputs": [
    {
     "name": "stdout",
     "output_type": "stream",
     "text": [
      "                          Title  Worldwide_Collection\n",
      "396  Bãhubali 2: The Conclusion               1788.00\n",
      "45       RRR (Rise Roar Revolt)               1230.00\n",
      "126               Kalki 2898-AD               1042.25\n",
      "397     Bãhubali: The Beginning                650.00\n",
      "212  Salaar: Part 1 - Ceasefire                617.75\n",
      "200                       Saaho                451.00\n",
      "455              Devara: Part 1                421.60\n"
     ]
    }
   ],
   "source": [
    "# 22) Top 7 movies by world wide collection in Tollywood \n",
    "tollywood_df = bo[bo['Industry'] == 'Tollywood']\n",
    "top_7_wwc_t = tollywood_df[['Title', 'Worldwide_Collection']].sort_values(by = 'Worldwide_Collection', ascending = False).head(7)\n",
    "print(top_7_wwc_t)"
   ]
  },
  {
   "cell_type": "code",
   "execution_count": 27,
   "id": "ebb0a690-fc58-4d72-b23f-84860fb856d4",
   "metadata": {},
   "outputs": [
    {
     "name": "stdout",
     "output_type": "stream",
     "text": [
      "                         Title  Worldwide_Collection\n",
      "285                          2                701.00\n",
      "116                        Leo                605.90\n",
      "117                     Jailer                604.50\n",
      "77   Ponniyin Selvan: Part One                488.36\n",
      "343                   The GOAT                451.23\n",
      "74                      Vikram                414.43\n",
      "333  Ponniyin Selvan: Part Two                344.63\n"
     ]
    }
   ],
   "source": [
    "# 23) Top 7 movies by world wide collection in Kollywood \n",
    "kollywood_df = bo[bo['Industry'] == 'Kollywood']\n",
    "top_7_wwc_k = kollywood_df[['Title', 'Worldwide_Collection']].sort_values(by = 'Worldwide_Collection', ascending = False).head(7)\n",
    "print(top_7_wwc_k)"
   ]
  },
  {
   "cell_type": "code",
   "execution_count": 28,
   "id": "eeab2ec3-aa8c-4e65-a358-645b2b072944",
   "metadata": {},
   "outputs": [
    {
     "name": "stdout",
     "output_type": "stream",
     "text": [
      "                 Title  Worldwide_Collection\n",
      "149   K.G.F: Chapter 2               1215.00\n",
      "186            Kantara                407.82\n",
      "148   K.G.F: Chapter 1                238.00\n",
      "83         777 Charlie                102.75\n",
      "187  VR (Vikrant Rona)                100.35\n",
      "188              James                 94.20\n",
      "201        Kurukshetra                 81.00\n"
     ]
    }
   ],
   "source": [
    "# 24) Top 7 movies by world wide collection in Sandalwood \n",
    "sandalwood_df = bo[bo['Industry'] == 'Sandalwood']\n",
    "top_7_wwc_s = sandalwood_df[['Title', 'Worldwide_Collection']].sort_values(by = 'Worldwide_Collection', ascending = False).head(7)\n",
    "print(top_7_wwc_s)"
   ]
  },
  {
   "cell_type": "code",
   "execution_count": 29,
   "id": "1f8e43cd-a314-42d0-b2d0-c5b9534a241e",
   "metadata": {},
   "outputs": [
    {
     "name": "stdout",
     "output_type": "stream",
     "text": [
      "              Title  Worldwide_Collection\n",
      "245  Manjummel Boys                241.10\n",
      "217            2018                180.03\n",
      "129   The Goat Life                157.35\n",
      "130        Aavesham                154.79\n",
      "177     Pulimurugan                150.00\n",
      "132         Premalu                131.18\n",
      "98          Lucifer                129.20\n"
     ]
    }
   ],
   "source": [
    "# 25) Top 7 movies by world wide collection in Mollywood \n",
    "mollywood_df = bo[bo['Industry'] == 'Mollywood']\n",
    "top_7_wwc_m = mollywood_df[['Title', 'Worldwide_Collection']].sort_values(by = 'Worldwide_Collection', ascending = False).head(7)\n",
    "print(top_7_wwc_m)"
   ]
  },
  {
   "cell_type": "code",
   "execution_count": 30,
   "id": "e2ff7fc0-eece-425d-b850-3773a110e487",
   "metadata": {},
   "outputs": [
    {
     "name": "stdout",
     "output_type": "stream",
     "text": [
      "Industry    Verdict             \n",
      "Bollywood   Above Average            7\n",
      "            All Time Blockbuster     5\n",
      "            Average                 18\n",
      "            Below Average           14\n",
      "            Blockbuster             30\n",
      "            Disaster                25\n",
      "            Flop                    22\n",
      "            Hit                     39\n",
      "            Super Hit               19\n",
      "            Super Hitt               3\n",
      "Kollywood   Above Average            5\n",
      "            Average                  8\n",
      "            Below Average           19\n",
      "            Blockbuster             44\n",
      "            Disaster                13\n",
      "            Flop                    12\n",
      "            Hit                     16\n",
      "            Super Hit               23\n",
      "Mollywood   All Time Blockbuster     4\n",
      "            Blockbuster             46\n",
      "            Disaster                 5\n",
      "            Flop                     2\n",
      "            Hit                     10\n",
      "            Super Hit               17\n",
      "Sandalwood  Above Average            2\n",
      "            All Time Blockbuster     5\n",
      "            Average                  3\n",
      "            Below Average            4\n",
      "            Blockbuster              7\n",
      "            Disaster                 1\n",
      "            Hit                      6\n",
      "            Super Hit                4\n",
      "Tollywood   Above Average            9\n",
      "            All Time Blockbuster     2\n",
      "            Average                 13\n",
      "            Below Average           10\n",
      "            Blockbuster             39\n",
      "            Disaster                24\n",
      "            Flop                    21\n",
      "            Hit                     25\n",
      "            Super Hit               22\n",
      "            Super Hitt               1\n",
      "dtype: int64\n"
     ]
    }
   ],
   "source": [
    "# 26) Write query to display industry and verdict wise films count \n",
    "films_iv = bo.groupby(['Industry', 'Verdict']).size()\n",
    "print(films_iv)"
   ]
  },
  {
   "cell_type": "code",
   "execution_count": 31,
   "id": "5cc2f017-964e-40ef-82f6-587406a0cfaf",
   "metadata": {},
   "outputs": [
    {
     "name": "stdout",
     "output_type": "stream",
     "text": [
      "                                Title  Budget\n",
      "544        Brahmastra Part One: Shiva   400.0\n",
      "572                             Jawan   300.0\n",
      "484                Thugs of Hindostan   275.0\n",
      "586                           Fighter   250.0\n",
      "573                           Pathaan   250.0\n",
      "..                                ...     ...\n",
      "538                         Kahaani 2    20.0\n",
      "602                   Laapataa Ladies     8.0\n",
      "564                     Total Dhamaal     5.0\n",
      "567                            Kesari     0.0\n",
      "569  Manikarnika: The Queen of Jhansi     0.0\n",
      "\n",
      "[182 rows x 2 columns]\n"
     ]
    }
   ],
   "source": [
    "# 27) Write query to get films based on budget in Bollywood \n",
    "films_bud_b = bollywood_df[['Title', 'Budget']].sort_values(by = 'Budget', ascending = False)\n",
    "print(films_bud_b)"
   ]
  },
  {
   "cell_type": "code",
   "execution_count": 32,
   "id": "6235d387-2525-49d0-8cbd-838f08e2d272",
   "metadata": {},
   "outputs": [
    {
     "name": "stdout",
     "output_type": "stream",
     "text": [
      "                          Title  Budget\n",
      "45       RRR (Rise Roar Revolt)   550.0\n",
      "213                   Adipurush   500.0\n",
      "126               Kalki 2898-AD   500.0\n",
      "427                 Radhe Shyam   300.0\n",
      "212  Salaar: Part 1 - Ceasefire   280.0\n",
      "..                          ...     ...\n",
      "43                        Chalo     5.0\n",
      "44                   Goodachari     5.0\n",
      "54                  Arjun Reddy     5.0\n",
      "236                     Balagam     3.0\n",
      "24                       Rx 100     2.0\n",
      "\n",
      "[166 rows x 2 columns]\n"
     ]
    }
   ],
   "source": [
    "# 28) Write query to get films based on budget in Tollywood \n",
    "films_bud_t = tollywood_df[['Title', 'Budget']].sort_values(by = 'Budget', ascending = False)\n",
    "print(films_bud_t)"
   ]
  },
  {
   "cell_type": "code",
   "execution_count": 33,
   "id": "47c9b571-5822-4d86-8280-050f90bf2136",
   "metadata": {},
   "outputs": [
    {
     "name": "stdout",
     "output_type": "stream",
     "text": [
      "                         Title  Budget\n",
      "285                          2   540.0\n",
      "343                   The GOAT   320.0\n",
      "77   Ponniyin Selvan: Part One   250.0\n",
      "333  Ponniyin Selvan: Part Two   250.0\n",
      "116                        Leo   250.0\n",
      "..                         ...     ...\n",
      "332          Dhilluku Dhuddu 2     7.0\n",
      "85                  Love Today     6.0\n",
      "113                        LKG     5.0\n",
      "142                    Vaazhai     5.0\n",
      "125                       Dada     4.0\n",
      "\n",
      "[140 rows x 2 columns]\n"
     ]
    }
   ],
   "source": [
    "# 29) Write query to get films based on budget in Kollywood\n",
    "films_bud_k = kollywood_df[['Title', 'Budget']].sort_values(by = 'Budget', ascending = False)\n",
    "print(films_bud_k)"
   ]
  },
  {
   "cell_type": "code",
   "execution_count": 34,
   "id": "0abacdf8-d2d2-4b62-90cf-e63277775a7e",
   "metadata": {},
   "outputs": [
    {
     "name": "stdout",
     "output_type": "stream",
     "text": [
      "                               Title  Budget\n",
      "149                 K.G.F: Chapter 2   100.0\n",
      "187                VR (Vikrant Rona)    80.0\n",
      "230                           Kabzaa    70.0\n",
      "201                      Kurukshetra    60.0\n",
      "148                 K.G.F: Chapter 1    50.0\n",
      "225                          Kaatera    45.0\n",
      "155                      The Villain    45.0\n",
      "188                            James    40.0\n",
      "202                         Pailwaan    35.0\n",
      "228                           Kranti    35.0\n",
      "181                          Roberrt    30.0\n",
      "183                      Kotigobba 3    25.0\n",
      "182                           Pogaru    25.0\n",
      "145                      Yuvarathnaa    25.0\n",
      "103             Avane Srimannarayana    25.0\n",
      "169                      Anjaniputra    20.0\n",
      "171                     Chakravarthy    20.0\n",
      "144                      Raajakumara    20.0\n",
      "108                         Yajamana    20.0\n",
      "235                            Ghost    20.0\n",
      "57                           Hebbuli    20.0\n",
      "237  Sapta Sagaradaache Ello: Side A    20.0\n",
      "203                 Natasaarvabhowma    20.0\n",
      "186                          Kantara    16.0\n",
      "207                            Odeya    15.0\n",
      "4                           Maanikya    15.0\n",
      "83                       777 Charlie    15.0\n",
      "185                           Salaga    10.0\n",
      "36                            Tagaru    10.0\n",
      "255                           Bheema     8.0\n",
      "156            Mr. And Mrs. Ramchari     6.0\n",
      "13                            Ugramm     4.0\n"
     ]
    }
   ],
   "source": [
    "# 30) Write query to get films based on budget in Sandalwood   \n",
    "films_bud_s = sandalwood_df[['Title', 'Budget']].sort_values(by = 'Budget', ascending = False)\n",
    "print(films_bud_s)"
   ]
  },
  {
   "cell_type": "code",
   "execution_count": 35,
   "id": "e7abcd71-b734-4766-adf6-8788302fc7a2",
   "metadata": {},
   "outputs": [
    {
     "name": "stdout",
     "output_type": "stream",
     "text": [
      "                                 Title  Budget\n",
      "178  Marakkar: Lion of the Arabian Sea   100.0\n",
      "252               Malaikottai Vaaliban    60.0\n",
      "159                             Odiyan    50.0\n",
      "129                      The Goat Life    50.0\n",
      "231                      King of Kotha    45.0\n",
      "..                                 ...     ...\n",
      "30                            Varathan     3.5\n",
      "227                          Romancham     3.0\n",
      "69       Kattappanayile Rithwik Roshan     3.0\n",
      "73                    Action Hero Biju     3.0\n",
      "42                 Sudani from Nigeria     2.0\n",
      "\n",
      "[84 rows x 2 columns]\n"
     ]
    }
   ],
   "source": [
    "# 31) Write query to get films based on budget in Mollywood \n",
    "films_bud_m = mollywood_df[['Title', 'Budget']].sort_values(by = 'Budget', ascending = False)\n",
    "print(films_bud_m)"
   ]
  },
  {
   "cell_type": "code",
   "execution_count": null,
   "id": "94d7c0ce-cc78-491b-9d8f-3ed700b79580",
   "metadata": {},
   "outputs": [],
   "source": []
  },
  {
   "cell_type": "code",
   "execution_count": 36,
   "id": "f93d31e5-40a9-47d3-aada-4882bc9a0068",
   "metadata": {},
   "outputs": [
    {
     "name": "stdout",
     "output_type": "stream",
     "text": [
      "                 Title  IMDb_Rating\n",
      "121          12th Fail          8.8\n",
      "79   The Kashmir Files          8.6\n",
      "512             Sachin          8.5\n",
      "602    Laapataa Ladies          8.4\n",
      "524             Dangal          8.3\n"
     ]
    }
   ],
   "source": [
    "# 32) Top 5 movies by IMDb rating from Bollywood \n",
    "films_imdb_b = bollywood_df[['Title', 'IMDb_Rating']].sort_values(by = 'IMDb_Rating', ascending = False).head(5)\n",
    "print(films_imdb_b)"
   ]
  },
  {
   "cell_type": "code",
   "execution_count": 37,
   "id": "162c0c55-5499-4224-87b9-a76c2aea573b",
   "metadata": {},
   "outputs": [
    {
     "name": "stdout",
     "output_type": "stream",
     "text": [
      "                          Title  IMDb_Rating\n",
      "316  Rocketry: The Nambi Effect          8.7\n",
      "350                 Meiyazhagan          8.5\n",
      "135                    Maharaja          8.5\n",
      "25                           96          8.5\n",
      "274                Vada Chennai          8.4\n"
     ]
    }
   ],
   "source": [
    "# 33) Top 5 movies by IMDb rating from Kollywood \n",
    "films_imdb_k = kollywood_df[['Title', 'IMDb_Rating']].sort_values(by = 'IMDb_Rating', ascending = False).head(5)\n",
    "print(films_imdb_k)"
   ]
  },
  {
   "cell_type": "code",
   "execution_count": 38,
   "id": "0e597411-de76-4a60-bc1a-57036950c4b9",
   "metadata": {},
   "outputs": [
    {
     "name": "stdout",
     "output_type": "stream",
     "text": [
      "            Title  IMDb_Rating\n",
      "437        Jersey          8.5\n",
      "84     Sita Ramam          8.5\n",
      "35       Mahanati          8.4\n",
      "360  Rangasthalam          8.2\n",
      "226      Hi Nanna          8.2\n"
     ]
    }
   ],
   "source": [
    "# 34) Top 5 movies by IMDb rating from Tollywood \n",
    "films_imdb_t = tollywood_df[['Title', 'IMDb_Rating']].sort_values(by = 'IMDb_Rating', ascending = False).head(5)\n",
    "print(films_imdb_t)"
   ]
  },
  {
   "cell_type": "code",
   "execution_count": 39,
   "id": "9387dfc8-75a1-4b10-9775-a4396726f62b",
   "metadata": {},
   "outputs": [
    {
     "name": "stdout",
     "output_type": "stream",
     "text": [
      "                               Title  IMDb_Rating\n",
      "83                       777 Charlie          8.7\n",
      "148                 K.G.F: Chapter 1          8.2\n",
      "149                 K.G.F: Chapter 2          8.2\n",
      "237  Sapta Sagaradaache Ello: Side A          8.2\n",
      "186                          Kantara          8.2\n"
     ]
    }
   ],
   "source": [
    "# 35) Top 5 movies by IMDb rating from Sandalwood \n",
    "films_imdb_s = sandalwood_df[['Title', 'IMDb_Rating']].sort_values(by = 'IMDb_Rating', ascending = False).head(5)\n",
    "print(films_imdb_s)"
   ]
  },
  {
   "cell_type": "code",
   "execution_count": 40,
   "id": "1cb6254a-c9a4-43b3-b1f4-83db3af535cc",
   "metadata": {},
   "outputs": [
    {
     "name": "stdout",
     "output_type": "stream",
     "text": [
      "                  Title  IMDb_Rating\n",
      "140  Kishkindha Kaandam          8.6\n",
      "204   Kumbalangi Nights          8.5\n",
      "189      Jana Gana Mana          8.3\n",
      "217                2018          8.3\n",
      "147      Bangalore Days          8.3\n"
     ]
    }
   ],
   "source": [
    "# 36) Top 5 movies by IMDb rating from Mollywood \n",
    "films_imdb_m = mollywood_df[['Title', 'IMDb_Rating']].sort_values(by = 'IMDb_Rating', ascending = False).head(5)\n",
    "print(films_imdb_m)"
   ]
  },
  {
   "cell_type": "code",
   "execution_count": 41,
   "id": "ae8f2af0-5633-4846-b2fd-abee4415d482",
   "metadata": {},
   "outputs": [
    {
     "name": "stdout",
     "output_type": "stream",
     "text": [
      "    Language  Total_Budget\n",
      "0      Hindi       14535.0\n",
      "1    Kannada         949.0\n",
      "2  Malayalam        1342.5\n",
      "3      Tamil        8682.0\n",
      "4     Telugu        9144.5\n"
     ]
    }
   ],
   "source": [
    "# 37) Write a query to get language wise budget? \n",
    "lang_bud = bo.groupby('Language')['Budget'].sum().reset_index()\n",
    "lang_bud.columns = ['Language', 'Total_Budget']\n",
    "print(lang_bud)"
   ]
  },
  {
   "cell_type": "code",
   "execution_count": 42,
   "id": "f8933cf2-3102-4a84-975f-5ed8f727f0e2",
   "metadata": {},
   "outputs": [
    {
     "name": "stdout",
     "output_type": "stream",
     "text": [
      "    Language  Total Directors\n",
      "0      Hindi              182\n",
      "1    Kannada               32\n",
      "2  Malayalam               84\n",
      "3      Tamil              140\n",
      "4     Telugu              166\n"
     ]
    }
   ],
   "source": [
    "# 38) Write a query to get language wise how many directors are there? \n",
    "lang_dir = bo.groupby('Language')['Director'].count().reset_index()\n",
    "lang_dir.columns = ['Language', 'Total Directors']\n",
    "print(lang_dir)"
   ]
  },
  {
   "cell_type": "code",
   "execution_count": 43,
   "id": "5e7baba2-9cae-4537-8b9d-b34419bfa0e8",
   "metadata": {},
   "outputs": [
    {
     "name": "stdout",
     "output_type": "stream",
     "text": [
      "    Language  Total_Worldwide_Collection\n",
      "0      Hindi                    38610.79\n",
      "1    Kannada                     3369.42\n",
      "2  Malayalam                     4597.32\n",
      "3      Tamil                    15235.99\n",
      "4     Telugu                    18065.27\n"
     ]
    }
   ],
   "source": [
    "# 39) Write a query to get language wise worldwide total collection? \n",
    "lang_wwc = bo.groupby('Language')['Worldwide_Collection'].sum().reset_index()\n",
    "lang_wwc.columns = ['Language','Total_Worldwide_Collection']\n",
    "print(lang_wwc)"
   ]
  },
  {
   "cell_type": "code",
   "execution_count": 44,
   "id": "4a273a73-81d9-4989-a16c-ffb953dae82b",
   "metadata": {},
   "outputs": [
    {
     "name": "stdout",
     "output_type": "stream",
     "text": [
      "    Language   Lead_Actor_Actress  \\\n",
      "0      Hindi           Aamir Khan   \n",
      "1      Hindi          Adah Sharma   \n",
      "2      Hindi    Aditya Roy Kapoor   \n",
      "3      Hindi           Ajay Devgn   \n",
      "4      Hindi         Akshay Kumar   \n",
      "..       ...                  ...   \n",
      "187   Telugu      Vennela Kishore   \n",
      "188   Telugu    Vijay Deverakonda   \n",
      "189   Telugu        Vikram Aditya   \n",
      "190   Telugu          Vishwak Sen   \n",
      "191   Telugu  amantha Ruth Prabhu   \n",
      "\n",
      "                                                 Title  \n",
      "0                                         [PK, Dangal]  \n",
      "1                                   [The Kerala Story]  \n",
      "2                       [Malang - Unleash the Madness]  \n",
      "3    [Drishyam 2, Tanhaji: The Unsung Warrior, Golm...  \n",
      "4    [Mission Mangal, Mission Raniganj: The Great B...  \n",
      "..                                                 ...  \n",
      "187                                 [Mathu Vadalara 2]  \n",
      "188  [Geetha Govindam, Arjun Reddy, Taxiwaala, The ...  \n",
      "189                                          [Manamey]  \n",
      "190          [Gaami, Gangs of Godavari, Das Ka Dhamki]  \n",
      "191                                          [Yashoda]  \n",
      "\n",
      "[192 rows x 3 columns]\n"
     ]
    }
   ],
   "source": [
    "# 40) Write a query to get language, lead actor/actress wise films they acted? \n",
    "lang_act =bo.groupby(['Language', 'Lead_Actor_Actress'])['Title'].apply(list).reset_index()\n",
    "lang_act.columns = ['Language', 'Lead_Actor_Actress', 'Title']\n",
    "print(lang_act)"
   ]
  },
  {
   "cell_type": "code",
   "execution_count": 45,
   "id": "d5c2c4c3-cc6d-4fc3-97d9-1f1d57b80589",
   "metadata": {},
   "outputs": [
    {
     "name": "stdout",
     "output_type": "stream",
     "text": [
      "    Language  Year                  Title\n",
      "16     Hindi  2014             Ek Villain\n",
      "460    Hindi  2014                     PK\n",
      "461    Hindi  2014         Happy New Year\n",
      "462    Hindi  2014                   Kick\n",
      "463    Hindi  2014              Bang Bang\n",
      "..       ...   ...                    ...\n",
      "259   Telugu  2024      Gangs of Godavari\n",
      "455   Telugu  2024         Devara: Part 1\n",
      "456   Telugu  2024          Guntur Kaaram\n",
      "457   Telugu  2024  Saripodhaa Sanivaaram\n",
      "458   Telugu  2024        Naa Saami Ranga\n",
      "\n",
      "[604 rows x 3 columns]\n"
     ]
    }
   ],
   "source": [
    "# 41) Write a query to get language, year wise films released? \n",
    "lang_year = bo[['Language', 'Year', 'Title']].sort_values(by = ['Language', 'Year'])\n",
    "print(lang_year)"
   ]
  },
  {
   "cell_type": "code",
   "execution_count": 46,
   "id": "4bc1d82f-63e3-4f33-ad0f-d5617ba3215f",
   "metadata": {},
   "outputs": [
    {
     "name": "stdout",
     "output_type": "stream",
     "text": [
      "4                             Maanikya\n",
      "13                              Ugramm\n",
      "36                              Tagaru\n",
      "57                             Hebbuli\n",
      "169                        Anjaniputra\n",
      "171                       Chakravarthy\n",
      "181                            Roberrt\n",
      "182                             Pogaru\n",
      "183                        Kotigobba 3\n",
      "185                             Salaga\n",
      "225                            Kaatera\n",
      "228                             Kranti\n",
      "237    Sapta Sagaradaache Ello: Side A\n",
      "255                             Bheema\n",
      "340                         DD Returns\n",
      "446                                118\n",
      "Name: Title, dtype: object\n"
     ]
    }
   ],
   "source": [
    "# 42) Write a query to get films which was not released on overseas? \n",
    "films_not_os = bo[bo['Overseas_Collection'] == 0]\n",
    "print(films_not_os['Title'])"
   ]
  },
  {
   "cell_type": "code",
   "execution_count": 47,
   "id": "4a667d8f-2057-4f0a-8d3f-d7ada49cd405",
   "metadata": {},
   "outputs": [
    {
     "name": "stdout",
     "output_type": "stream",
     "text": [
      "      Language                              Title  Runtime_mins\n",
      "114      Hindi                             Animal           204\n",
      "176      Hindi       M.S. Dhoni: The Untold Story           184\n",
      "594      Hindi                            Maidaan           181\n",
      "103    Kannada               Avane Srimannarayana           186\n",
      "201    Kannada                        Kurukshetra           185\n",
      "225    Kannada                            Kaatera           183\n",
      "178  Malayalam  Marakkar: Lion of the Arabian Sea           181\n",
      "92   Malayalam                Ayyappanum Koshiyum           177\n",
      "98   Malayalam                            Lucifer           175\n",
      "39       Tamil                                  I           188\n",
      "261      Tamil                              Jilla           185\n",
      "270      Tamil                              Cobra           183\n",
      "45      Telugu             RRR (Rise Roar Revolt)           187\n",
      "54      Telugu                        Arjun Reddy           182\n",
      "126     Telugu                      Kalki 2898-AD           180\n"
     ]
    }
   ],
   "source": [
    "# 43) Write a query to get language wise top 3 longest runtime moves? \n",
    "lrt_df = bo[['Language', 'Title', 'Runtime_mins']]\n",
    "sort_lrt = lrt_df.sort_values(['Language', 'Runtime_mins'], ascending = [True, False])\n",
    "lrt_films = sort_lrt.groupby('Language').head(3)\n",
    "print(lrt_films)"
   ]
  },
  {
   "cell_type": "code",
   "execution_count": 48,
   "id": "d0980b46-3478-40ce-98d5-33b445aa6c2e",
   "metadata": {},
   "outputs": [
    {
     "name": "stdout",
     "output_type": "stream",
     "text": [
      "      Language                               Title  Runtime_mins\n",
      "599      Hindi                                Kill           105\n",
      "497      Hindi                      Raksha Bandhan           108\n",
      "560      Hindi  Bhoot: Part One - The Haunted Ship           114\n",
      "477      Hindi                              Hichki           116\n",
      "514      Hindi                   Bareilly Ki Barfi           116\n",
      "185    Kannada                              Salaga           124\n",
      "36     Kannada                              Tagaru           129\n",
      "13     Kannada                              Ugramm           132\n",
      "235    Kannada                               Ghost           132\n",
      "230    Kannada                              Kabzaa           134\n",
      "87   Malayalam                        Malikappuram           121\n",
      "42   Malayalam                 Sudani from Nigeria           123\n",
      "143  Malayalam    Vaazha: Biopic of a Billion Boys           125\n",
      "209  Malayalam                               Uyare           125\n",
      "256  Malayalam                          Nunakkuzhi           125\n",
      "279      Tamil                       Kochadaiiyaan           118\n",
      "332      Tamil                   Dhilluku Dhuddu 2           119\n",
      "326      Tamil                      Kadaram Kondan           121\n",
      "317      Tamil                      Naane Varuvean           122\n",
      "17       Tamil                          Badhaai ho           124\n",
      "407     Telugu                    The Ghazi Attack           116\n",
      "411     Telugu                                Guru           116\n",
      "418     Telugu                   Raju Gari Gadhi 2           117\n",
      "391     Telugu                         Nela Ticket           120\n",
      "446     Telugu                                 118           120\n"
     ]
    }
   ],
   "source": [
    "# 44) Write a query to get language wise bottom 5 shortest runtime moves? \n",
    "sort_srt = lrt_df.sort_values(['Language', 'Runtime_mins'], ascending = [True, True])\n",
    "srt_films = sort_srt.groupby('Language').head(5)\n",
    "print(srt_films)"
   ]
  },
  {
   "cell_type": "code",
   "execution_count": 49,
   "id": "566c5168-cf93-4277-a08e-990b59c56702",
   "metadata": {},
   "outputs": [
    {
     "name": "stdout",
     "output_type": "stream",
     "text": [
      "      Language                              Title  \\\n",
      "572      Hindi                              Jawan   \n",
      "114      Hindi                             Animal   \n",
      "573      Hindi                            Pathaan   \n",
      "574      Hindi                            Tiger 3   \n",
      "127      Hindi         Stree 2: Sarkate Ka Aatank   \n",
      "149    Kannada                   K.G.F: Chapter 2   \n",
      "187    Kannada                  VR (Vikrant Rona)   \n",
      "148    Kannada                   K.G.F: Chapter 1   \n",
      "188    Kannada                              James   \n",
      "181    Kannada                            Roberrt   \n",
      "178  Malayalam  Marakkar: Lion of the Arabian Sea   \n",
      "159  Malayalam                             Odiyan   \n",
      "180  Malayalam                              Kurup   \n",
      "129  Malayalam                      The Goat Life   \n",
      "246  Malayalam                              Turbo   \n",
      "116      Tamil                                Leo   \n",
      "285      Tamil                                  2   \n",
      "135      Tamil                           Maharaja   \n",
      "343      Tamil                           The GOAT   \n",
      "117      Tamil                             Jailer   \n",
      "45      Telugu             RRR (Rise Roar Revolt)   \n",
      "396     Telugu         Bãhubali 2: The Conclusion   \n",
      "126     Telugu                      Kalki 2898-AD   \n",
      "212     Telugu         Salaar: Part 1 - Ceasefire   \n",
      "455     Telugu                     Devara: Part 1   \n",
      "\n",
      "     First_Day_Collection_Worldwide  \n",
      "572                          129.10  \n",
      "114                          116.00  \n",
      "573                          104.80  \n",
      "574                           94.00  \n",
      "127                           80.00  \n",
      "149                          159.00  \n",
      "187                           25.50  \n",
      "148                           25.00  \n",
      "188                           23.50  \n",
      "181                           16.90  \n",
      "178                           20.30  \n",
      "159                           18.30  \n",
      "180                           18.30  \n",
      "129                           16.22  \n",
      "246                           15.70  \n",
      "116                          142.70  \n",
      "285                          105.00  \n",
      "135                          104.84  \n",
      "343                          100.75  \n",
      "117                           96.60  \n",
      "45                           223.00  \n",
      "396                          217.00  \n",
      "126                          177.70  \n",
      "212                          158.10  \n",
      "455                          142.00  \n"
     ]
    }
   ],
   "source": [
    "# 45) Write a query to get language wise top 5 films based first day collections?\n",
    "fdc_df = bo[['Language', 'Title', 'First_Day_Collection_Worldwide']]\n",
    "sort_fdc = fdc_df.sort_values(by = ['Language', 'First_Day_Collection_Worldwide'], ascending = [True, False])\n",
    "fdc_films = sort_fdc.groupby('Language').head(5)\n",
    "print(fdc_films)"
   ]
  },
  {
   "cell_type": "code",
   "execution_count": 50,
   "id": "ddbe6be8-c436-4ff3-8f51-3395521dbb9e",
   "metadata": {},
   "outputs": [
    {
     "name": "stdout",
     "output_type": "stream",
     "text": [
      "      Language                       Title  India_Gross_Collection\n",
      "572      Hindi                       Jawan                  760.00\n",
      "127      Hindi  Stree 2: Sarkate Ka Aatank                  713.07\n",
      "114      Hindi                      Animal                  660.00\n",
      "573      Hindi                     Pathaan                  657.50\n",
      "115      Hindi                     Gadar 2                  620.50\n",
      "149    Kannada            K.G.F: Chapter 2                 1000.85\n",
      "186    Kannada                     Kantara                  363.82\n",
      "148    Kannada            K.G.F: Chapter 1                  228.00\n",
      "83     Kannada                 777 Charlie                   96.95\n",
      "187    Kannada           VR (Vikrant Rona)                   94.75\n",
      "245  Malayalam              Manjummel Boys                  167.65\n",
      "217  Malayalam                        2018                  110.53\n",
      "177  Malayalam                 Pulimurugan                  105.90\n",
      "130  Malayalam                    Aavesham                   98.79\n",
      "129  Malayalam               The Goat Life                   97.85\n",
      "285      Tamil                           2                  529.00\n",
      "117      Tamil                      Jailer                  408.50\n",
      "116      Tamil                         Leo                  401.90\n",
      "77       Tamil   Ponniyin Selvan: Part One                  313.36\n",
      "343      Tamil                    The GOAT                  295.13\n",
      "396     Telugu  Bãhubali 2: The Conclusion                 1417.00\n",
      "45      Telugu      RRR (Rise Roar Revolt)                  915.85\n",
      "126     Telugu               Kalki 2898-AD                  767.25\n",
      "397     Telugu     Bãhubali: The Beginning                  516.00\n",
      "212     Telugu  Salaar: Part 1 - Ceasefire                  487.75\n"
     ]
    }
   ],
   "source": [
    "# 46) Write a query to get language wise top 5 films based India gross collections?\n",
    "igc_df = bo[['Language', 'Title', 'India_Gross_Collection']]\n",
    "sort_igc = igc_df.sort_values(by = ['Language', 'India_Gross_Collection'], ascending = [True, False])\n",
    "igc_films = sort_igc.groupby('Language').head(5)\n",
    "print(igc_films)"
   ]
  },
  {
   "cell_type": "code",
   "execution_count": 51,
   "id": "c77a72e2-be64-48cd-8b08-94ffb48f401e",
   "metadata": {},
   "outputs": [
    {
     "name": "stdout",
     "output_type": "stream",
     "text": [
      "    Language          Director  Total Films\n",
      "0      Hindi   A.R. Murugadoss            1\n",
      "1      Hindi     Aanand L. Rai            3\n",
      "2      Hindi       Abhinay Deo            1\n",
      "3      Hindi   Abhishek Pathak            1\n",
      "4      Hindi   Abhishek Varman            2\n",
      "..       ...               ...          ...\n",
      "397   Telugu   Vikram K. Kumar            3\n",
      "398   Telugu  Vikram Sirikonda            1\n",
      "399   Telugu     Vimal Krishna            1\n",
      "400   Telugu       Vishwak Sen            1\n",
      "401   Telugu     Vivek Athreya            2\n",
      "\n",
      "[402 rows x 3 columns]\n"
     ]
    }
   ],
   "source": [
    "# 47) Write a query to get language, Director wise films count?\n",
    "lang_d = bo.groupby(['Language', 'Director'])['Title'].count ().reset_index()\n",
    "lang_d.columns = ['Language','Director','Total Films']\n",
    "print(lang_d)"
   ]
  },
  {
   "cell_type": "code",
   "execution_count": 52,
   "id": "41316135-740f-4b53-8044-24d81c67c82f",
   "metadata": {},
   "outputs": [
    {
     "name": "stdout",
     "output_type": "stream",
     "text": [
      "     Language        OTT Platform  Total Films\n",
      "0       Hindi                 Aha            1\n",
      "1       Hindi  Amazon Prime Video           78\n",
      "2       Hindi     Disney+ Hotstar           29\n",
      "3       Hindi           JioCinema            3\n",
      "4       Hindi             Netflix           52\n",
      "5       Hindi             SonyLIV            1\n",
      "6       Hindi                ZEE5           18\n",
      "7     Kannada  Amazon Prime Video           27\n",
      "8     Kannada     Disney+ Hotstar            1\n",
      "9     Kannada             SonyLIV            1\n",
      "10    Kannada                Voot            1\n",
      "11    Kannada                ZEE5            2\n",
      "12  Malayalam                 Aha            2\n",
      "13  Malayalam  Amazon Prime Video           60\n",
      "14  Malayalam     Disney+ Hotstar            7\n",
      "15  Malayalam             Netflix            5\n",
      "16  Malayalam             Sun NXT            7\n",
      "17  Malayalam                ZEE5            3\n",
      "18      Tamil                 Aha            1\n",
      "19      Tamil  Amazon Prime Video          100\n",
      "20      Tamil     Disney+ Hotstar            9\n",
      "21      Tamil             Netflix           19\n",
      "22      Tamil             SonyLIV            2\n",
      "23      Tamil             Sun NXT            4\n",
      "24      Tamil                ZEE5            5\n",
      "25     Telugu                 Aha            4\n",
      "26     Telugu  Amazon Prime Video          119\n",
      "27     Telugu     Disney+ Hotstar            8\n",
      "28     Telugu  Google Play Movies            1\n",
      "29     Telugu             Netflix           23\n",
      "30     Telugu                ZEE5           11\n"
     ]
    }
   ],
   "source": [
    "# 48) Write a query to get language wise OTT platform wise films count? \n",
    "lang_ott = bo.groupby(['Language', 'OTT_Platform'])['Title'].count ().reset_index()\n",
    "lang_ott.columns = ['Language','OTT Platform','Total Films']\n",
    "print(lang_ott)"
   ]
  },
  {
   "cell_type": "code",
   "execution_count": 53,
   "id": "9dd59d3e-9528-485e-b463-dd5ac678fa4b",
   "metadata": {},
   "outputs": [
    {
     "name": "stdout",
     "output_type": "stream",
     "text": [
      "      Language                              Title  \\\n",
      "572      Hindi                              Jawan   \n",
      "114      Hindi                             Animal   \n",
      "573      Hindi                            Pathaan   \n",
      "574      Hindi                            Tiger 3   \n",
      "127      Hindi         Stree 2: Sarkate Ka Aatank   \n",
      "484      Hindi                 Thugs of Hindostan   \n",
      "199      Hindi                                War   \n",
      "27       Hindi                             Sultan   \n",
      "544      Hindi         Brahmastra Part One: Shiva   \n",
      "519      Hindi               Prem Ratan Dhan Payo   \n",
      "149    Kannada                   K.G.F: Chapter 2   \n",
      "187    Kannada                  VR (Vikrant Rona)   \n",
      "148    Kannada                   K.G.F: Chapter 1   \n",
      "188    Kannada                              James   \n",
      "181    Kannada                            Roberrt   \n",
      "225    Kannada                            Kaatera   \n",
      "230    Kannada                             Kabzaa   \n",
      "155    Kannada                        The Villain   \n",
      "228    Kannada                             Kranti   \n",
      "182    Kannada                             Pogaru   \n",
      "178  Malayalam  Marakkar: Lion of the Arabian Sea   \n",
      "159  Malayalam                             Odiyan   \n",
      "180  Malayalam                              Kurup   \n",
      "129  Malayalam                      The Goat Life   \n",
      "246  Malayalam                              Turbo   \n",
      "231  Malayalam                      King of Kotha   \n",
      "98   Malayalam                            Lucifer   \n",
      "15   Malayalam                     Bheeshmaparvam   \n",
      "252  Malayalam               Malaikottai Vaaliban   \n",
      "130  Malayalam                           Aavesham   \n",
      "116      Tamil                                Leo   \n",
      "285      Tamil                                  2   \n",
      "135      Tamil                           Maharaja   \n",
      "343      Tamil                           The GOAT   \n",
      "117      Tamil                             Jailer   \n",
      "262      Tamil                             Kabali   \n",
      "260      Tamil                              Beast   \n",
      "77       Tamil          Ponniyin Selvan: Part One   \n",
      "263      Tamil                             Sarkar   \n",
      "344      Tamil                          Vettaiyan   \n",
      "45      Telugu             RRR (Rise Roar Revolt)   \n",
      "396     Telugu         Bãhubali 2: The Conclusion   \n",
      "126     Telugu                      Kalki 2898-AD   \n",
      "212     Telugu         Salaar: Part 1 - Ceasefire   \n",
      "455     Telugu                     Devara: Part 1   \n",
      "213     Telugu                          Adipurush   \n",
      "433     Telugu            Sye Raa Narasimha Reddy   \n",
      "397     Telugu            Bãhubali: The Beginning   \n",
      "456     Telugu                      Guntur Kaaram   \n",
      "364     Telugu                Sarkaru Vaari Paata   \n",
      "\n",
      "     First_Day_Collection_Worldwide  \n",
      "572                          129.10  \n",
      "114                          116.00  \n",
      "573                          104.80  \n",
      "574                           94.00  \n",
      "127                           80.00  \n",
      "484                           76.00  \n",
      "199                           74.30  \n",
      "27                            71.30  \n",
      "544                           70.00  \n",
      "519                           66.20  \n",
      "149                          159.00  \n",
      "187                           25.50  \n",
      "148                           25.00  \n",
      "188                           23.50  \n",
      "181                           16.90  \n",
      "225                           13.00  \n",
      "230                           12.50  \n",
      "155                           12.00  \n",
      "228                           11.60  \n",
      "182                           10.25  \n",
      "178                           20.30  \n",
      "159                           18.30  \n",
      "180                           18.30  \n",
      "129                           16.22  \n",
      "246                           15.70  \n",
      "231                           15.00  \n",
      "98                            14.00  \n",
      "15                            12.20  \n",
      "252                           12.15  \n",
      "130                           10.50  \n",
      "116                          142.70  \n",
      "285                          105.00  \n",
      "135                          104.84  \n",
      "343                          100.75  \n",
      "117                           96.60  \n",
      "262                           90.00  \n",
      "260                           82.40  \n",
      "77                            80.70  \n",
      "263                           71.00  \n",
      "344                           67.00  \n",
      "45                           223.00  \n",
      "396                          217.00  \n",
      "126                          177.70  \n",
      "212                          158.10  \n",
      "455                          142.00  \n",
      "213                          127.50  \n",
      "433                           85.00  \n",
      "397                           73.00  \n",
      "456                           68.70  \n",
      "364                           68.50  \n"
     ]
    }
   ],
   "source": [
    "# 49) What are top 10 films based on language and first day collection? \n",
    "fdc_df = bo[['Language', 'Title', 'First_Day_Collection_Worldwide']]\n",
    "sort_fdc = fdc_df.sort_values(by = ['Language', 'First_Day_Collection_Worldwide'], ascending = [True, False])\n",
    "fdc_films = sort_fdc.groupby('Language').head(10)\n",
    "print(fdc_films)"
   ]
  },
  {
   "cell_type": "code",
   "execution_count": 54,
   "id": "789dc16b-e0f9-4207-acfb-b08ad9298751",
   "metadata": {},
   "outputs": [
    {
     "name": "stdout",
     "output_type": "stream",
     "text": [
      "             Director  Total Films\n",
      "0     A.R. Murugadoss            2\n",
      "1       Aanand L. Rai            1\n",
      "2          Aashiq Abu            1\n",
      "3     Abhishek Varman            1\n",
      "4         Aditya Dhar            1\n",
      "..                ...          ...\n",
      "185   Vikram K. Kumar            2\n",
      "186  Vikram Sirikonda            1\n",
      "187            Vysakh            1\n",
      "188          Zakariya            1\n",
      "189       Zoya Akhtar            1\n",
      "\n",
      "[190 rows x 2 columns]\n"
     ]
    }
   ],
   "source": [
    "# 50) Write a query to get director wise number of films released in from year 2017 to 2019.\n",
    "year_films = bo[bo['Year'].isin([2017,2018,2019])]\n",
    "dir_films = year_films.groupby('Director')['Title'].count().reset_index()\n",
    "dir_films.columns = ['Director', 'Total Films']\n",
    "print(dir_films)"
   ]
  },
  {
   "cell_type": "code",
   "execution_count": 55,
   "id": "2d28cd8a-c77d-4fac-a547-28982c275e23",
   "metadata": {},
   "outputs": [
    {
     "name": "stdout",
     "output_type": "stream",
     "text": [
      "            Director  Total Worldwide Collection\n",
      "0    A.R. Murugadoss                      920.60\n",
      "1      Aanand L. Rai                      504.38\n",
      "2         Aashiq Abu                       22.20\n",
      "3    Abhilash Joshiy                       39.10\n",
      "4        Abhinay Deo                       58.70\n",
      "..               ...                         ...\n",
      "379  Vivek Agnihotri                      341.00\n",
      "380    Vivek Athreya                      136.53\n",
      "381           Vysakh                      300.65\n",
      "382         Zakariya                       24.70\n",
      "383      Zoya Akhtar                      385.70\n",
      "\n",
      "[384 rows x 2 columns]\n"
     ]
    }
   ],
   "source": [
    "# 51) Write a query to get director wise world wide collections? \n",
    "dir_wwc = bo.groupby('Director')['Worldwide_Collection'].sum().reset_index()\n",
    "dir_wwc.columns = ['Director', 'Total Worldwide Collection']\n",
    "print(dir_wwc)"
   ]
  },
  {
   "cell_type": "code",
   "execution_count": 56,
   "id": "daff5e98-dbf9-41f2-b018-daa563ea72af",
   "metadata": {},
   "outputs": [
    {
     "name": "stdout",
     "output_type": "stream",
     "text": [
      "            Director  Total First Day Collection Worldwide\n",
      "0    A.R. Murugadoss                                212.10\n",
      "1      Aanand L. Rai                                 44.70\n",
      "2         Aashiq Abu                                  1.10\n",
      "3    Abhilash Joshiy                                 15.00\n",
      "4        Abhinay Deo                                  6.10\n",
      "..               ...                                   ...\n",
      "379  Vivek Agnihotri                                  4.90\n",
      "380    Vivek Athreya                                 29.95\n",
      "381           Vysakh                                 28.90\n",
      "382         Zakariya                                  2.00\n",
      "383      Zoya Akhtar                                 30.50\n",
      "\n",
      "[384 rows x 2 columns]\n"
     ]
    }
   ],
   "source": [
    "# 52) Write a query to get director wise first day world wide collections?\n",
    "dir_fdc = bo.groupby('Director')['First_Day_Collection_Worldwide'].sum().reset_index()\n",
    "dir_fdc.columns = ['Director', 'Total First Day Collection Worldwide']\n",
    "print(dir_fdc)"
   ]
  },
  {
   "cell_type": "code",
   "execution_count": 57,
   "id": "0148a976-a714-4678-bca0-9be2b42e3a6d",
   "metadata": {},
   "outputs": [
    {
     "name": "stdout",
     "output_type": "stream",
     "text": [
      "            Director  Total India Gross Collection\n",
      "0    A.R. Murugadoss                        699.70\n",
      "1      Aanand L. Rai                        392.18\n",
      "2         Aashiq Abu                         15.80\n",
      "3    Abhilash Joshiy                         23.20\n",
      "4        Abhinay Deo                         48.20\n",
      "..               ...                           ...\n",
      "379  Vivek Agnihotri                        295.00\n",
      "380    Vivek Athreya                         99.53\n",
      "381           Vysakh                        208.55\n",
      "382         Zakariya                         21.00\n",
      "383      Zoya Akhtar                        271.40\n",
      "\n",
      "[384 rows x 2 columns]\n"
     ]
    }
   ],
   "source": [
    "# 53) Write a query to get director wise India gross collections?  \n",
    "dir_igc = bo.groupby('Director')['India_Gross_Collection'].sum().reset_index()\n",
    "dir_igc.columns = ['Director', 'Total India Gross Collection']\n",
    "print(dir_igc)"
   ]
  },
  {
   "cell_type": "code",
   "execution_count": 58,
   "id": "9e182393-7d0d-4155-8f91-69c45ce3b4e7",
   "metadata": {},
   "outputs": [
    {
     "name": "stdout",
     "output_type": "stream",
     "text": [
      "            Director  Total Overseas Collection\n",
      "0    A.R. Murugadoss                      220.9\n",
      "1      Aanand L. Rai                      112.2\n",
      "2         Aashiq Abu                        6.4\n",
      "3    Abhilash Joshiy                       15.9\n",
      "4        Abhinay Deo                       10.5\n",
      "..               ...                        ...\n",
      "379  Vivek Agnihotri                       46.0\n",
      "380    Vivek Athreya                       37.0\n",
      "381           Vysakh                       92.1\n",
      "382         Zakariya                        3.1\n",
      "383      Zoya Akhtar                      114.3\n",
      "\n",
      "[384 rows x 2 columns]\n"
     ]
    }
   ],
   "source": [
    "# 54) Write a query to get director wise overseas collections? '\n",
    "dir_oc = bo.groupby('Director')['Overseas_Collection'].sum().reset_index()\n",
    "dir_oc.columns = ['Director', 'Total Overseas Collection']\n",
    "print(dir_oc)"
   ]
  },
  {
   "cell_type": "code",
   "execution_count": 59,
   "id": "f5d44f34-7bbb-4474-bc9e-1b2b7e956101",
   "metadata": {},
   "outputs": [
    {
     "name": "stdout",
     "output_type": "stream",
     "text": [
      "            Director Lead Actor/Actress  Total Films\n",
      "0    A.R. Murugadoss       Akshay Kumar            1\n",
      "1    A.R. Murugadoss       Joseph Vijay            2\n",
      "2    A.R. Murugadoss        Mahesh Babu            1\n",
      "3    A.R. Murugadoss        Rajinikanth            1\n",
      "4      Aanand L. Rai       Akshay Kumar            1\n",
      "..               ...                ...          ...\n",
      "554           Vysakh          Mammootty            2\n",
      "555           Vysakh           Mohanlal            1\n",
      "556         Zakariya      Soubin Shahir            1\n",
      "557      Zoya Akhtar        Anil Kapoor            1\n",
      "558      Zoya Akhtar      Ranveer Singh            1\n",
      "\n",
      "[559 rows x 3 columns]\n"
     ]
    }
   ],
   "source": [
    "# 55) Write a query to get director, lead actor/actress and number of films? \n",
    "dir_laa = bo.groupby(['Director', 'Lead_Actor_Actress'])['Title'].count().reset_index()\n",
    "dir_laa.columns = ['Director', 'Lead Actor/Actress', 'Total Films']\n",
    "print(dir_laa)"
   ]
  },
  {
   "cell_type": "code",
   "execution_count": 60,
   "id": "de84eb10-846e-405a-a6b6-43480ca4c757",
   "metadata": {},
   "outputs": [
    {
     "name": "stdout",
     "output_type": "stream",
     "text": [
      "                               Title  Budget\n",
      "456                    Guntur Kaaram   150.0\n",
      "468                           Race 3   150.0\n",
      "371        Pushpa: The Rise - Part 1   150.0\n",
      "301                          Valimai   150.0\n",
      "260                            Beast   150.0\n",
      "546                     Vikram Vedha   150.0\n",
      "461                   Happy New Year   150.0\n",
      "114                           Animal   150.0\n",
      "91       Tanhaji: The Unsung Warrior   150.0\n",
      "549                        Shamshera   150.0\n",
      "576  Rocky Aur Rani Kii Prem Kahaani   150.0\n",
      "543                       Bellbottom   160.0\n",
      "463                        Bang Bang   160.0\n",
      "469                          Dilwale   165.0\n",
      "548                Bachchhan Paandey   165.0\n",
      "199                              War   175.0\n",
      "277                        Annaatthe   180.0\n",
      "498               Laal Singh Chaddha   180.0\n",
      "493              Gangubai Kathiawadi   180.0\n",
      "474                     Sooryavanshi   180.0\n",
      "397          Bãhubali: The Beginning   180.0\n",
      "519             Prem Ratan Dhan Payo   180.0\n",
      "26                         Padmaavat   190.0\n",
      "214                           Varisu   200.0\n",
      "47                   Tiger Zinda Hai   200.0\n",
      "473                             Zero   200.0\n",
      "344                        Vettaiyan   200.0\n",
      "268                           Darbar   200.0\n",
      "541                               83   200.0\n",
      "117                           Jailer   200.0\n",
      "547                Samrat Prithviraj   220.0\n",
      "574                          Tiger 3   250.0\n",
      "573                          Pathaan   250.0\n",
      "77         Ponniyin Selvan: Part One   250.0\n",
      "116                              Leo   250.0\n",
      "455                   Devara: Part 1   250.0\n",
      "333        Ponniyin Selvan: Part Two   250.0\n",
      "345                         Indian 2   250.0\n",
      "396       Bãhubali 2: The Conclusion   250.0\n",
      "586                          Fighter   250.0\n",
      "591           Bade Miyan Chote Miyan   250.0\n",
      "484               Thugs of Hindostan   275.0\n"
     ]
    }
   ],
   "source": [
    "# 56) Write a query to get films which is having budget on between 150 crores and 277 crores?\n",
    "films_bud = bo[(bo['Budget'] >= 150) & (bo['Budget'] <= 277)]\n",
    "f_bud = films_bud.sort_values(by = 'Budget', ascending = True)\n",
    "print(f_bud[['Title', 'Budget']])"
   ]
  },
  {
   "cell_type": "code",
   "execution_count": 61,
   "id": "068dd0aa-7784-4e48-875c-26d46044e158",
   "metadata": {},
   "outputs": [
    {
     "name": "stdout",
     "output_type": "stream",
     "text": [
      "            Director  Week Name  Total Films\n",
      "0    A.R. Murugadoss     Friday            2\n",
      "1    A.R. Murugadoss  Wednesday            3\n",
      "2      Aanand L. Rai     Friday            2\n",
      "3      Aanand L. Rai   Thursday            1\n",
      "4         Aashiq Abu     Friday            1\n",
      "..               ...        ...          ...\n",
      "469    Vivek Athreya  Wednesday            1\n",
      "470           Vysakh     Friday            2\n",
      "471           Vysakh   Thursday            1\n",
      "472         Zakariya     Friday            1\n",
      "473      Zoya Akhtar     Friday            2\n",
      "\n",
      "[474 rows x 3 columns]\n"
     ]
    }
   ],
   "source": [
    "# 57) Write a query to get director, week name wise films released? \n",
    "dir_wn = bo.groupby(['Director', 'Week_Name'])['Title'].count().reset_index()\n",
    "dir_wn.columns = ['Director', 'Week Name', 'Total Films']\n",
    "print(dir_wn)"
   ]
  },
  {
   "cell_type": "code",
   "execution_count": 62,
   "id": "0a94e28f-fc1f-4885-bf58-c1ffd26e8fa6",
   "metadata": {},
   "outputs": [
    {
     "name": "stdout",
     "output_type": "stream",
     "text": [
      "    OTT Platform              Director  Total Films\n",
      "0            Aha    Gopichand Malineni            1\n",
      "1            Aha         Jeethu Joseph            1\n",
      "2            Aha            Mallik Ram            1\n",
      "3            Aha         Neeraj Pandey            1\n",
      "4            Aha                Prabhu            1\n",
      "..           ...                   ...          ...\n",
      "468         ZEE5  Trinadha Rao Nakkina            1\n",
      "469         ZEE5          Venky Atluri            2\n",
      "470         ZEE5           Vetrimaaran            1\n",
      "471         ZEE5      Vidyadhar Kagita            1\n",
      "472         ZEE5       Vivek Agnihotri            1\n",
      "\n",
      "[473 rows x 3 columns]\n"
     ]
    }
   ],
   "source": [
    "# 58) Write a query to get OTT platform and director wise films released? \n",
    "ott_dir = bo.groupby(['OTT_Platform', 'Director'])['Title'].count().reset_index()\n",
    "ott_dir.columns = ['OTT Platform', 'Director', 'Total Films']\n",
    "print(ott_dir)"
   ]
  },
  {
   "cell_type": "code",
   "execution_count": 63,
   "id": "fa08aaa7-ae8b-42c7-8ba1-c0eaf7e5031b",
   "metadata": {},
   "outputs": [
    {
     "name": "stdout",
     "output_type": "stream",
     "text": [
      "            Director  Total Films\n",
      "0    A.R. Murugadoss            2\n",
      "1      Aanand L. Rai            2\n",
      "2         Aashiq Abu            1\n",
      "3        Abhinay Deo            1\n",
      "4      Abhishek Nama            1\n",
      "..               ...          ...\n",
      "306  Vivek Agnihotri            1\n",
      "307    Vivek Athreya            1\n",
      "308           Vysakh            2\n",
      "309         Zakariya            1\n",
      "310      Zoya Akhtar            2\n",
      "\n",
      "[311 rows x 2 columns]\n"
     ]
    }
   ],
   "source": [
    "# 59) Write a query to get director wise films released on Friday only? \n",
    "fri_films = bo[bo['Week_Name'] == 'Friday']\n",
    "dir_fri = fri_films.groupby('Director')['Title'].count().reset_index()\n",
    "dir_fri.columns = ['Director', 'Total Films']\n",
    "print(dir_fri)"
   ]
  },
  {
   "cell_type": "code",
   "execution_count": 64,
   "id": "cea03db8-169b-4e75-b564-69b036a9739d",
   "metadata": {},
   "outputs": [
    {
     "name": "stdout",
     "output_type": "stream",
     "text": [
      "                        Title  IMDb_Rating\n",
      "356                   Yashoda          6.5\n",
      "253                      Star          6.5\n",
      "254                     Gaami          6.5\n",
      "95             Mission Mangal          6.5\n",
      "265                     Kaala          6.5\n",
      "..                        ...          ...\n",
      "18             Njan Prakashan          7.7\n",
      "367                    Dhruva          7.7\n",
      "485                     Raazi          7.7\n",
      "601  Swatantrya Veer Savarkar          7.7\n",
      "323          Nerkonda Paarvai          7.7\n",
      "\n",
      "[235 rows x 2 columns]\n"
     ]
    }
   ],
   "source": [
    "# 60) Write a query to get films based on IMDb rating between 6.5 and 7.7?\n",
    "imdb_films = bo[(bo['IMDb_Rating'] >= 6.5) & (bo['IMDb_Rating'] <= 7.7)]\n",
    "imdb_f = imdb_films.sort_values(by = 'IMDb_Rating', ascending = True)\n",
    "print(imdb_f[['Title', 'IMDb_Rating']])"
   ]
  },
  {
   "cell_type": "code",
   "execution_count": 65,
   "id": "f4063595-8210-4b4b-845d-2dc89c886fbf",
   "metadata": {},
   "outputs": [
    {
     "name": "stdout",
     "output_type": "stream",
     "text": [
      "            Director                Title  IMDb_Rating\n",
      "268  A.R. Murugadoss               Darbar          5.9\n",
      "466  A.R. Murugadoss              Holiday          7.2\n",
      "3    A.R. Murugadoss              Kaththi          8.1\n",
      "263  A.R. Murugadoss               Sarkar          6.7\n",
      "366  A.R. Murugadoss               Spyder          6.3\n",
      "..               ...                  ...          ...\n",
      "177           Vysakh          Pulimurugan          6.6\n",
      "246           Vysakh                Turbo          5.9\n",
      "42          Zakariya  Sudani from Nigeria          8.1\n",
      "521      Zoya Akhtar      Dil Dhadakne Do          7.0\n",
      "563      Zoya Akhtar            Gully Boy          7.9\n",
      "\n",
      "[604 rows x 3 columns]\n"
     ]
    }
   ],
   "source": [
    "# 61) Write a query to get director, films and IMDb ratings? \n",
    "dif_df = bo[['Director', 'Title', 'IMDb_Rating']]\n",
    "dir_imdb_films = dif_df.sort_values(by = ['Director', 'Title'], ascending = True)\n",
    "print(dir_imdb_films)"
   ]
  },
  {
   "cell_type": "code",
   "execution_count": 66,
   "id": "eef0d1cf-7d7a-48ed-a83f-0f7a2ee0693f",
   "metadata": {},
   "outputs": [
    {
     "name": "stdout",
     "output_type": "stream",
     "text": [
      "                       Title  Budget\n",
      "484       Thugs of Hindostan   275.0\n",
      "541                       83   200.0\n",
      "277                Annaatthe   180.0\n",
      "301                  Valimai   150.0\n",
      "546             Vikram Vedha   150.0\n",
      "468                   Race 3   150.0\n",
      "366                   Spyder   120.0\n",
      "280                  Vivegam   120.0\n",
      "491                 Baaghi 3   100.0\n",
      "403                Godfather   100.0\n",
      "502                Tubelight   100.0\n",
      "449                      Bro   100.0\n",
      "162         Street Dancer 3D   100.0\n",
      "593          Chandu Champion    90.0\n",
      "348               Thangalaan    80.0\n",
      "467           Action Jackson    80.0\n",
      "571    Student of the Year 2    75.0\n",
      "435      Vinaya Vidheya Rama    75.0\n",
      "346                  Ayalaan    75.0\n",
      "399     Sardaar Gabbar Singh    75.0\n",
      "273   Etharkkum Thunindhavan    65.0\n",
      "154   Bruce Lee: The Fighter    60.0\n",
      "597                    Yodha    60.0\n",
      "165             Love Aaj Kal    60.0\n",
      "309  Massu Engira Masilamani    60.0\n",
      "488                 Chhapaak    50.0\n",
      "159                   Odiyan    50.0\n",
      "452      Tiger Nageswara Rao    50.0\n",
      "490            Munna Michael    45.0\n",
      "495            A Flying Jatt    45.0\n",
      "537                  Force 2    40.0\n",
      "249                    Eagle    40.0\n",
      "559         Jawaani Jaaneman    40.0\n",
      "326           Kadaram Kondan    40.0\n",
      "515                    Panga    40.0\n",
      "441             Dear Comrade    35.0\n",
      "313                   Prince    35.0\n",
      "341              Pathu Thala    35.0\n",
      "412       Jaya Janaki Nayaka    35.0\n",
      "359             The Warriorr    35.0\n",
      "539                    Azhar    35.0\n",
      "153   Velaiilla Pattadhari 2    30.0\n",
      "458          Naa Saami Ranga    30.0\n",
      "429        Ante Sundharaniki    30.0\n",
      "423                   Kick 2    30.0\n",
      "317           Naane Varuvean    30.0\n",
      "415             Paisa Vasool    30.0\n",
      "377      Krishnarjuna Yudham    25.0\n",
      "375     Sailaja Reddy Alludu    25.0\n",
      "370                  Rang De    25.0\n",
      "553               Badhaai Do    25.0\n",
      "244                      Spy    25.0\n",
      "421            Goutham Nanda    20.0\n",
      "385       Srinivasa Kalyanam    20.0\n",
      "554                    Jhund    20.0\n",
      "556                     Chup    20.0\n",
      "195                 Aaraattu    18.0\n"
     ]
    }
   ],
   "source": [
    "# 62) Write a query to get films with highest budget based flop verdict? \n",
    "flop = bo[bo['Verdict'] == 'Flop']\n",
    "flop_films = flop.sort_values(by = ['Budget'], ascending = False)\n",
    "print(flop_films[['Title', 'Budget']])"
   ]
  },
  {
   "cell_type": "code",
   "execution_count": 67,
   "id": "5e1600aa-33fd-43c0-bd58-4d25e38629e7",
   "metadata": {},
   "outputs": [
    {
     "name": "stdout",
     "output_type": "stream",
     "text": [
      "Total Number of Directors:  384\n"
     ]
    }
   ],
   "source": [
    "# 63) Write a query to get total number of directors? \n",
    "print(\"Total Number of Directors: \", bo['Director'].nunique())"
   ]
  },
  {
   "cell_type": "code",
   "execution_count": 68,
   "id": "736e90dd-15d9-43a9-bdc8-1e602a8e5bef",
   "metadata": {},
   "outputs": [
    {
     "name": "stdout",
     "output_type": "stream",
     "text": [
      "Verdict\n",
      "Above Average            23\n",
      "All Time Blockbuster     16\n",
      "Average                  42\n",
      "Below Average            47\n",
      "Blockbuster             166\n",
      "Disaster                 68\n",
      "Flop                     57\n",
      "Hit                      96\n",
      "Super Hit                85\n",
      "Super Hitt                4\n",
      "Name: Title, dtype: int64\n"
     ]
    }
   ],
   "source": [
    "# 64) Write a query to get verdict wise total films released?\n",
    "verdict_films = bo.groupby('Verdict')['Title'].count()\n",
    "verdict_films.columns = ['Verdict', 'Total Films']\n",
    "print(verdict_films)"
   ]
  },
  {
   "cell_type": "code",
   "execution_count": 69,
   "id": "3642ae4c-e5e0-454d-ac76-ff2f1c13e737",
   "metadata": {},
   "outputs": [
    {
     "name": "stdout",
     "output_type": "stream",
     "text": [
      "               Director  Total Films\n",
      "345  Trivikram Srinivas            6\n",
      "266        Rohit Shetty            6\n",
      "0       A.R. Murugadoss            5\n",
      "313                Siva            5\n",
      "34        Anil Ravipudi            5\n",
      "67       Boyapati Srinu            5\n",
      "147       Koratala Siva            5\n",
      "261        Remo D'Souza            4\n",
      "55                Atlee            4\n",
      "311     Siddharth Anand            4\n"
     ]
    }
   ],
   "source": [
    "# 65) Write a query to get top 10 directors based on number of films? \n",
    "tdir = bo.groupby('Director')['Title'].count().reset_index()\n",
    "tdir.columns = ['Director', 'Total Films']\n",
    "t10_dir = tdir.sort_values(by = ['Total Films'], ascending = False).head(10)\n",
    "print(t10_dir)"
   ]
  },
  {
   "cell_type": "code",
   "execution_count": 70,
   "id": "612dc5b1-6145-42d2-8347-22ecfcdbab1a",
   "metadata": {},
   "outputs": [
    {
     "name": "stdout",
     "output_type": "stream",
     "text": [
      "       Industry                                 Director  \\\n",
      "105   Bollywood                          Siddharth Anand   \n",
      "68    Bollywood                            Nitesh Tiwari   \n",
      "82    Bollywood                          Rajkumar Hirani   \n",
      "89    Bollywood                             Rohit Shetty   \n",
      "96    Bollywood                      Sandeep Reddy Vanga   \n",
      "153   Kollywood                         Lokesh Kanagaraj   \n",
      "188   Kollywood                               S. Shankar   \n",
      "168   Kollywood                        Nelson Dilipkumar   \n",
      "160   Kollywood  Mani Ratnam, Sruti Harihara Subramanian   \n",
      "192   Kollywood                                     Siva   \n",
      "273   Mollywood                                   Vysakh   \n",
      "224   Mollywood                              Chidambaram   \n",
      "238   Mollywood                           Jithu Madhavan   \n",
      "241   Mollywood                      Jude Anthany Joseph   \n",
      "230   Mollywood                              Girish A.D.   \n",
      "286  Sandalwood                           Prashanth Neel   \n",
      "289  Sandalwood                            Rishab Shetty   \n",
      "293  Sandalwood                       Santhosh Ananddram   \n",
      "298  Sandalwood                             Tarun Sudhir   \n",
      "281  Sandalwood                               Kiranraj K   \n",
      "358   Tollywood                           S.S. Rajamouli   \n",
      "343   Tollywood                               Nag Ashwin   \n",
      "385   Tollywood                       Trivikram Srinivas   \n",
      "331   Tollywood                            Koratala Siva   \n",
      "379   Tollywood                                  Sukumar   \n",
      "\n",
      "     Total Worldwide Collection  \n",
      "105                     2229.45  \n",
      "68                      2122.30  \n",
      "82                      1834.50  \n",
      "89                      1656.60  \n",
      "96                      1292.00  \n",
      "153                     1350.13  \n",
      "188                     1089.83  \n",
      "168                      952.88  \n",
      "160                      832.99  \n",
      "192                      727.90  \n",
      "273                      300.65  \n",
      "224                      241.10  \n",
      "238                      223.79  \n",
      "241                      180.03  \n",
      "230                      165.28  \n",
      "286                     1484.00  \n",
      "289                      407.82  \n",
      "293                      166.70  \n",
      "298                      150.00  \n",
      "281                      102.75  \n",
      "358                     3668.00  \n",
      "343                     1125.75  \n",
      "385                      877.45  \n",
      "331                      838.60  \n",
      "379                      709.50  \n"
     ]
    }
   ],
   "source": [
    "# 66) Write a query to get top 5 directors based on world wide collections and also industry wise?\n",
    "wwc_dir = bo.groupby(['Industry', 'Director'])['Worldwide_Collection'].sum().reset_index()\n",
    "wwc_dir.columns = ['Industry', 'Director', 'Total Worldwide Collection']\n",
    "t5_wwid = wwc_dir.sort_values(by = ['Industry', 'Total Worldwide Collection'], ascending = [True, False])\n",
    "t5_wwid = t5_wwid.groupby('Industry').head(5)\n",
    "print(t5_wwid)"
   ]
  },
  {
   "cell_type": "code",
   "execution_count": 71,
   "id": "d02d5966-6663-464a-aa40-47984f3d3d4e",
   "metadata": {},
   "outputs": [
    {
     "name": "stdout",
     "output_type": "stream",
     "text": [
      "            Director  Total India Gross Collection\n",
      "105  Siddharth Anand                       1560.91\n",
      "89      Rohit Shetty                       1246.20\n",
      "82   Rajkumar Hirani                       1199.50\n"
     ]
    }
   ],
   "source": [
    "# 67) Write a query to get top 3 directors based on India gross collections in Bollywood industry?\n",
    "bdir = bollywood_df.groupby('Director')['India_Gross_Collection'].sum().reset_index()\n",
    "bdir.columns = ['Director', 'Total India Gross Collection']\n",
    "t3_bdir = bdir.sort_values(by = ['Total India Gross Collection'], ascending = False).head(3)\n",
    "print(t3_bdir)"
   ]
  },
  {
   "cell_type": "code",
   "execution_count": 72,
   "id": "dcb278cc-5168-4d6d-b2e5-34a1dc10f65a",
   "metadata": {},
   "outputs": [
    {
     "name": "stdout",
     "output_type": "stream",
     "text": [
      "              Director  Total India Gross Collection\n",
      "57      S.S. Rajamouli                       2848.85\n",
      "42          Nag Ashwin                        840.25\n",
      "84  Trivikram Srinivas                        711.65\n"
     ]
    }
   ],
   "source": [
    "# 68) Write a query to get top 3 directors based on India gross collections in Tollywood industry?\n",
    "tdir = tollywood_df.groupby('Director')['India_Gross_Collection'].sum().reset_index()\n",
    "tdir.columns = ['Director', 'Total India Gross Collection']\n",
    "t3_tdir = tdir.sort_values(by = ['Total India Gross Collection'], ascending = False).head(3)\n",
    "print(t3_tdir)"
   ]
  },
  {
   "cell_type": "code",
   "execution_count": 73,
   "id": "92239653-184a-4a06-8abc-f0c83802e01f",
   "metadata": {},
   "outputs": [
    {
     "name": "stdout",
     "output_type": "stream",
     "text": [
      "             Director  Total India Gross Collection\n",
      "32   Lokesh Kanagaraj                        956.88\n",
      "67         S. Shankar                        826.83\n",
      "47  Nelson Dilipkumar                        669.88\n"
     ]
    }
   ],
   "source": [
    "# 69) Write a query to get top 3 directors based on India gross collections in Kollywood industry?\n",
    "kdir = kollywood_df.groupby('Director')['India_Gross_Collection'].sum().reset_index()\n",
    "kdir.columns = ['Director', 'Total India Gross Collection']\n",
    "t3_kdir = kdir.sort_values(by = ['Total India Gross Collection'], ascending = False).head(3)\n",
    "print(t3_kdir)"
   ]
  },
  {
   "cell_type": "code",
   "execution_count": 74,
   "id": "e7b20c49-7b77-454e-8d9f-75e839e2aee6",
   "metadata": {},
   "outputs": [
    {
     "name": "stdout",
     "output_type": "stream",
     "text": [
      "          Director  Total India Gross Collection\n",
      "65          Vysakh                        208.55\n",
      "16     Chidambaram                        167.65\n",
      "30  Jithu Madhavan                        144.49\n"
     ]
    }
   ],
   "source": [
    "# 70) Write a query to get top 3 directors based on India gross collections in Mollywood industry?\n",
    "mdir = mollywood_df.groupby('Director')['India_Gross_Collection'].sum().reset_index()\n",
    "mdir.columns = ['Director', 'Total India Gross Collection']\n",
    "t3_mdir = mdir.sort_values(by = ['Total India Gross Collection'], ascending = False).head(3)\n",
    "print(t3_mdir)"
   ]
  },
  {
   "cell_type": "code",
   "execution_count": 75,
   "id": "7d48cc8b-43b3-4bc0-80b4-ba90213a7ef6",
   "metadata": {},
   "outputs": [
    {
     "name": "stdout",
     "output_type": "stream",
     "text": [
      "              Director  Total India Gross Collection\n",
      "11      Prashanth Neel                       1259.85\n",
      "14       Rishab Shetty                        363.82\n",
      "18  Santhosh Ananddram                        164.40\n"
     ]
    }
   ],
   "source": [
    "# 71) Write a query to get top 3 directors based on India gross collections in Sandalwood industry?\n",
    "sdir = sandalwood_df.groupby('Director')['India_Gross_Collection'].sum().reset_index()\n",
    "sdir.columns = ['Director', 'Total India Gross Collection']\n",
    "t3_sdir = sdir.sort_values(by = ['Total India Gross Collection'], ascending = False).head(3)\n",
    "print(t3_sdir)"
   ]
  },
  {
   "cell_type": "code",
   "execution_count": 76,
   "id": "47d48a52-f552-47b5-b2c4-91053e24b99c",
   "metadata": {},
   "outputs": [
    {
     "name": "stdout",
     "output_type": "stream",
     "text": [
      "Total Number of Genres:  159\n"
     ]
    }
   ],
   "source": [
    "# 72) Write to get total number of genres? \n",
    "print(\"Total Number of Genres: \", bo['Genre'].nunique())"
   ]
  },
  {
   "cell_type": "code",
   "execution_count": 77,
   "id": "e948e686-0ece-4adf-b478-5427a251d9a9",
   "metadata": {},
   "outputs": [
    {
     "name": "stdout",
     "output_type": "stream",
     "text": [
      "            Director   Language                    Genre  Total Films\n",
      "0    A.R. Murugadoss      Hindi  Action, Crime, Thriller            1\n",
      "1    A.R. Murugadoss      Tamil  Action, Crime, Thriller            1\n",
      "2    A.R. Murugadoss      Tamil            Action, Drama            2\n",
      "3    A.R. Murugadoss     Telugu  Action, Crime, Thriller            1\n",
      "4      Aanand L. Rai      Hindi    Comedy, Drama, Family            1\n",
      "..               ...        ...                      ...          ...\n",
      "561           Vysakh  Malayalam    Action, Comedy, Drama            1\n",
      "562           Vysakh  Malayalam         Action, Thriller            1\n",
      "563         Zakariya  Malayalam            Comedy, Sport            1\n",
      "564      Zoya Akhtar      Hindi   Comedy, Drama, Romance            1\n",
      "565      Zoya Akhtar      Hindi    Drama, Music, Romance            1\n",
      "\n",
      "[566 rows x 4 columns]\n"
     ]
    }
   ],
   "source": [
    "# 73) Write query to get director, language, genre films count? \n",
    "dlg_films = bo.groupby(['Director', 'Language', 'Genre'])['Title'].count().reset_index()\n",
    "dlg_films.columns = ['Director', 'Language', 'Genre', 'Total Films']\n",
    "dlg_films = dlg_films.sort_values(by = ['Director', 'Language', 'Genre'], ascending = [True, True, True])\n",
    "print(dlg_films)"
   ]
  },
  {
   "cell_type": "code",
   "execution_count": 78,
   "id": "1f11acbd-51fb-4f4b-850b-e34e194b54dc",
   "metadata": {},
   "outputs": [
    {
     "name": "stdout",
     "output_type": "stream",
     "text": [
      "                                         Genre  Total Budget\n",
      "0                                       Action         192.0\n",
      "1                            Action, Adventure         290.0\n",
      "2                    Action, Adventure, Comedy          55.0\n",
      "3             Action, Adventure, Comedy, Drama         120.0\n",
      "4    Action, Adventure, Comedy, Drama, Fantasy          25.0\n",
      "..                                         ...           ...\n",
      "154                  Horror, Mystery, Thriller          53.0\n",
      "155                           Horror, Thriller          15.0\n",
      "156                                    Mystery          13.0\n",
      "157                          Mystery, Thriller          20.0\n",
      "158                                    Romance          90.0\n",
      "\n",
      "[159 rows x 2 columns]\n"
     ]
    }
   ],
   "source": [
    "# 74) Write a query to genre wise budget? \n",
    "gen_bud = bo.groupby('Genre')['Budget'].sum().reset_index()\n",
    "gen_bud.columns = ['Genre', 'Total Budget']\n",
    "print(gen_bud)"
   ]
  },
  {
   "cell_type": "code",
   "execution_count": 79,
   "id": "9f07cedc-f6e2-4014-870d-c97a9c26f84c",
   "metadata": {},
   "outputs": [
    {
     "name": "stdout",
     "output_type": "stream",
     "text": [
      "                                         Genre  \\\n",
      "0                                       Action   \n",
      "1                            Action, Adventure   \n",
      "2                    Action, Adventure, Comedy   \n",
      "3             Action, Adventure, Comedy, Drama   \n",
      "4    Action, Adventure, Comedy, Drama, Fantasy   \n",
      "..                                         ...   \n",
      "154                  Horror, Mystery, Thriller   \n",
      "155                           Horror, Thriller   \n",
      "156                                    Mystery   \n",
      "157                          Mystery, Thriller   \n",
      "158                                    Romance   \n",
      "\n",
      "     Total First Day Collection Worldwide  \n",
      "0                                   58.25  \n",
      "1                                   78.50  \n",
      "2                                   28.00  \n",
      "3                                   33.45  \n",
      "4                                    5.50  \n",
      "..                                    ...  \n",
      "154                                  9.25  \n",
      "155                                  5.05  \n",
      "156                                  4.66  \n",
      "157                                  4.30  \n",
      "158                                 36.60  \n",
      "\n",
      "[159 rows x 2 columns]\n"
     ]
    }
   ],
   "source": [
    "# 75) Write a query to get genre wise first day worldwide collections? \n",
    "gen_fdwc = bo.groupby('Genre')['First_Day_Collection_Worldwide'].sum().reset_index()\n",
    "gen_fdwc.columns = ['Genre', 'Total First Day Collection Worldwide']\n",
    "print(gen_fdwc)"
   ]
  },
  {
   "cell_type": "code",
   "execution_count": 80,
   "id": "f9e14d89-dbff-44aa-bc93-6b9f38bde0e4",
   "metadata": {},
   "outputs": [
    {
     "name": "stdout",
     "output_type": "stream",
     "text": [
      "                                         Genre  Total Overseas Collection\n",
      "0                                       Action                      66.00\n",
      "1                            Action, Adventure                     162.25\n",
      "2                    Action, Adventure, Comedy                      73.50\n",
      "3             Action, Adventure, Comedy, Drama                     521.70\n",
      "4    Action, Adventure, Comedy, Drama, Fantasy                       4.10\n",
      "..                                         ...                        ...\n",
      "154                  Horror, Mystery, Thriller                      21.00\n",
      "155                           Horror, Thriller                      41.65\n",
      "156                                    Mystery                      47.22\n",
      "157                          Mystery, Thriller                      11.30\n",
      "158                                    Romance                      22.40\n",
      "\n",
      "[159 rows x 2 columns]\n"
     ]
    }
   ],
   "source": [
    "# 76) Write a query to get genre wise overseas collections? \n",
    "gen_oc = bo.groupby('Genre')['Overseas_Collection'].sum().reset_index()\n",
    "gen_oc.columns = ['Genre', 'Total Overseas Collection']\n",
    "print(gen_oc)"
   ]
  },
  {
   "cell_type": "code",
   "execution_count": 81,
   "id": "cbed75e0-f1d7-4c3e-8228-a2164e18ae11",
   "metadata": {},
   "outputs": [
    {
     "name": "stdout",
     "output_type": "stream",
     "text": [
      "                                         Genre  Total India Gross Collection\n",
      "0                                       Action                        339.20\n",
      "1                            Action, Adventure                        250.00\n",
      "2                    Action, Adventure, Comedy                        278.10\n",
      "3             Action, Adventure, Comedy, Drama                        502.40\n",
      "4    Action, Adventure, Comedy, Drama, Fantasy                         71.20\n",
      "..                                         ...                           ...\n",
      "154                  Horror, Mystery, Thriller                         95.40\n",
      "155                           Horror, Thriller                         41.65\n",
      "156                                    Mystery                         47.22\n",
      "157                          Mystery, Thriller                         44.60\n",
      "158                                    Romance                        124.66\n",
      "\n",
      "[159 rows x 2 columns]\n"
     ]
    }
   ],
   "source": [
    "# 77) Write a query to get genre wise India gross collections? \n",
    "gen_igc = bo.groupby('Genre')['India_Gross_Collection'].sum().reset_index()\n",
    "gen_igc.columns = ['Genre', 'Total India Gross Collection']\n",
    "print(gen_igc)"
   ]
  },
  {
   "cell_type": "code",
   "execution_count": 82,
   "id": "67c6f573-5365-4123-a913-00e745424553",
   "metadata": {},
   "outputs": [
    {
     "name": "stdout",
     "output_type": "stream",
     "text": [
      "                         Genre                    Title  Runtime_mins\n",
      "225                     Action                  Kaatera           183\n",
      "108                     Action                 Yajamana           164\n",
      "484          Action, Adventure       Thugs of Hindostan           164\n",
      "223          Action, Adventure  RDX: Robert Dony Xavier           151\n",
      "564  Action, Adventure, Comedy            Total Dhamaal           130\n",
      "..                         ...                      ...           ...\n",
      "142                    Mystery                  Vaazhai           134\n",
      "256                    Mystery               Nunakkuzhi           125\n",
      "538          Mystery, Thriller                Kahaani 2           127\n",
      "402                    Romance               Love Story           155\n",
      "445                    Romance                Mr. Majnu           145\n",
      "\n",
      "[238 rows x 3 columns]\n"
     ]
    }
   ],
   "source": [
    "# 78) Write a query to get genre wise top 2 longest run time movies? \n",
    "gen_rt_films = bo[['Genre', 'Title', 'Runtime_mins']]\n",
    "t2_films = gen_rt_films.sort_values(by =['Genre', 'Runtime_mins'], ascending = [True, False])\n",
    "t2_films = t2_films.groupby('Genre').head(2)\n",
    "print(t2_films)"
   ]
  },
  {
   "cell_type": "code",
   "execution_count": 83,
   "id": "0818b9a6-159c-4bca-80d5-e3dfbf14cfa1",
   "metadata": {},
   "outputs": [
    {
     "name": "stdout",
     "output_type": "stream",
     "text": [
      "                                         Genre  \\\n",
      "349                                     Action   \n",
      "223                          Action, Adventure   \n",
      "533                  Action, Adventure, Comedy   \n",
      "136           Action, Adventure, Comedy, Drama   \n",
      "103  Action, Adventure, Comedy, Drama, Fantasy   \n",
      "..                                         ...   \n",
      "560                  Horror, Mystery, Thriller   \n",
      "141                           Horror, Thriller   \n",
      "256                                    Mystery   \n",
      "538                          Mystery, Thriller   \n",
      "357                                    Romance   \n",
      "\n",
      "                                  Title  Runtime_mins  \n",
      "349                             Garudan           133  \n",
      "223             RDX: Robert Dony Xavier           151  \n",
      "533                             Dishoom           124  \n",
      "136                               A.R.M           150  \n",
      "103                Avane Srimannarayana           186  \n",
      "..                                  ...           ...  \n",
      "560  Bhoot: Part One - The Haunted Ship           114  \n",
      "141                    Demonte Colony 2           144  \n",
      "256                          Nunakkuzhi           125  \n",
      "538                           Kahaani 2           127  \n",
      "357                            18 Pages           135  \n",
      "\n",
      "[159 rows x 3 columns]\n"
     ]
    }
   ],
   "source": [
    "# 79) Write a query to get genre wise bottom shortest runtime movies? \n",
    "b1_films = bo[['Genre', 'Title', 'Runtime_mins']]\n",
    "b1_films = b1_films.sort_values(by =['Genre', 'Runtime_mins'], ascending = [True, True])\n",
    "b1_films = b1_films.groupby('Genre').head(1)\n",
    "print(b1_films)"
   ]
  },
  {
   "cell_type": "code",
   "execution_count": 84,
   "id": "20283840-97f2-41cf-aa68-bb8a093c35c3",
   "metadata": {},
   "outputs": [
    {
     "name": "stdout",
     "output_type": "stream",
     "text": [
      "           Verdict                           Genre  Total Films\n",
      "0    Above Average           Action, Comedy, Crime            1\n",
      "1    Above Average  Action, Comedy, Drama, Romance            1\n",
      "2    Above Average         Action, Comedy, Romance            1\n",
      "3    Above Average                   Action, Crime            1\n",
      "4    Above Average            Action, Crime, Drama            1\n",
      "..             ...                             ...          ...\n",
      "354      Super Hit       Horror, Mystery, Thriller            1\n",
      "355     Super Hitt         Action, Drama, Thriller            1\n",
      "356     Super Hitt                Action, Thriller            1\n",
      "357     Super Hitt                   Comedy, Drama            1\n",
      "358     Super Hitt         Drama, Horror, Thriller            1\n",
      "\n",
      "[359 rows x 3 columns]\n"
     ]
    }
   ],
   "source": [
    "# 80) Write a query to get verdict, genre wise films released? \n",
    "ver_gen_films = bo.groupby(['Verdict', 'Genre'])['Title'].count().reset_index()\n",
    "ver_gen_films.columns = ['Verdict', 'Genre', 'Total Films']\n",
    "print(ver_gen_films)"
   ]
  },
  {
   "cell_type": "code",
   "execution_count": 85,
   "id": "d7531c50-abf3-4913-b6a3-aec246e0feee",
   "metadata": {},
   "outputs": [
    {
     "name": "stdout",
     "output_type": "stream",
     "text": [
      "                                Genre        OTT_Platform  Total Films\n",
      "0                              Action  Amazon Prime Video            7\n",
      "1                   Action, Adventure  Amazon Prime Video            2\n",
      "2           Action, Adventure, Comedy     Disney+ Hotstar            2\n",
      "3    Action, Adventure, Comedy, Drama  Amazon Prime Video            1\n",
      "4    Action, Adventure, Comedy, Drama     Disney+ Hotstar            1\n",
      "..                                ...                 ...          ...\n",
      "259                           Mystery                ZEE5            1\n",
      "260                 Mystery, Thriller                ZEE5            1\n",
      "261                           Romance  Amazon Prime Video            2\n",
      "262                           Romance             Netflix            1\n",
      "263                           Romance                ZEE5            1\n",
      "\n",
      "[264 rows x 3 columns]\n"
     ]
    }
   ],
   "source": [
    "# 81) Write a query to get genre, OTT platform wise films count? \n",
    "gen_ott_films = bo.groupby(['Genre', 'OTT_Platform'])['Title'].count().reset_index()\n",
    "gen_ott_films.columns = ['Genre', 'OTT_Platform', 'Total Films']\n",
    "print(gen_ott_films)"
   ]
  },
  {
   "cell_type": "code",
   "execution_count": 86,
   "id": "7f04d49a-735f-451f-be85-3a71f7abeb2c",
   "metadata": {},
   "outputs": [
    {
     "name": "stdout",
     "output_type": "stream",
     "text": [
      "                                         Genre  Total Films\n",
      "0                                       Action            7\n",
      "1                            Action, Adventure            2\n",
      "2                    Action, Adventure, Comedy            2\n",
      "3             Action, Adventure, Comedy, Drama            2\n",
      "4    Action, Adventure, Comedy, Drama, Fantasy            1\n",
      "..                                         ...          ...\n",
      "154                  Horror, Mystery, Thriller            3\n",
      "155                           Horror, Thriller            1\n",
      "156                                    Mystery            2\n",
      "157                          Mystery, Thriller            1\n",
      "158                                    Romance            4\n",
      "\n",
      "[159 rows x 2 columns]\n"
     ]
    }
   ],
   "source": [
    "# 82) Write a query to get genre wise films count? \n",
    "gen_films = bo.groupby('Genre')['Title'].count().reset_index()\n",
    "gen_films.columns = ['Genre', 'Total Films']\n",
    "print(gen_films)"
   ]
  },
  {
   "cell_type": "code",
   "execution_count": 87,
   "id": "e95d4d7e-3a39-4c02-85fc-f1ee4493c6bf",
   "metadata": {},
   "outputs": [
    {
     "name": "stdout",
     "output_type": "stream",
     "text": [
      "                                                Genre  Total Films\n",
      "0                            Action, Adventure, Drama            3\n",
      "1                   Action, Adventure, Drama, Fantasy            1\n",
      "2   Action, Adventure, Drama, Fantasy, Sci-Fi, Thr...            1\n",
      "3                   Action, Adventure, Drama, History            1\n",
      "4                          Action, Adventure, Fantasy            1\n",
      "..                                                ...          ...\n",
      "60                            Drama, Sci-Fi, Thriller            1\n",
      "61                                       Drama, Sport            1\n",
      "62                                  Fantasy, Thriller            1\n",
      "63                                             Horror            1\n",
      "64                                            Romance            4\n",
      "\n",
      "[65 rows x 2 columns]\n"
     ]
    }
   ],
   "source": [
    "# 83) Write a query to get genre wise films count in Tollywood Industry? \n",
    "gen_t_films = tollywood_df.groupby('Genre')['Title'].count().reset_index()\n",
    "gen_t_films.columns = ['Genre', 'Total Films']\n",
    "print(gen_t_films)"
   ]
  },
  {
   "cell_type": "code",
   "execution_count": 88,
   "id": "8d523b5c-e1a5-4268-9142-75ba60554fb3",
   "metadata": {},
   "outputs": [
    {
     "name": "stdout",
     "output_type": "stream",
     "text": [
      "                                               Genre  Total Films\n",
      "0                                             Action            3\n",
      "1                           Action, Adventure, Drama            2\n",
      "2                  Action, Adventure, Drama, History            1\n",
      "3                 Action, Adventure, Drama, Thriller            1\n",
      "4                         Action, Adventure, Fantasy            1\n",
      "5                          Action, Adventure, Sci-Fi            1\n",
      "6                Action, Adventure, Sci-Fi, Thriller            2\n",
      "7                                     Action, Comedy            2\n",
      "8                              Action, Comedy, Crime            1\n",
      "9               Action, Comedy, Crime, Drama, Sci-Fi            1\n",
      "10            Action, Comedy, Crime, Drama, Thriller            2\n",
      "11                   Action, Comedy, Crime, Thriller            2\n",
      "12                             Action, Comedy, Drama            5\n",
      "13          Action, Comedy, Drama, Fantasy, Thriller            1\n",
      "14                     Action, Comedy, Drama, Horror            2\n",
      "15  Action, Comedy, Drama, Musical, Sci-Fi, Thriller            1\n",
      "16                    Action, Comedy, Drama, Romance            3\n",
      "17                   Action, Comedy, Fantasy, Horror            1\n",
      "18                            Action, Comedy, Horror            1\n",
      "19                              Action, Crime, Drama            6\n",
      "20           Action, Crime, Drama, Mystery, Thriller            2\n",
      "21                    Action, Crime, Drama, Thriller           14\n",
      "22                           Action, Crime, Thriller           13\n",
      "23                                     Action, Drama           17\n",
      "24                            Action, Drama, Romance            3\n",
      "25          Action, Drama, Romance, Sci-Fi, Thriller            1\n",
      "26                   Action, Drama, Sci-Fi, Thriller            1\n",
      "27                              Action, Drama, Sport            2\n",
      "28                           Action, Drama, Thriller            8\n",
      "29                          Action, Horror, Thriller            1\n",
      "30                         Action, Romance, Thriller            1\n",
      "31                          Action, Sci-Fi, Thriller            2\n",
      "32                                  Action, Thriller            7\n",
      "33             Animation, Action, Adventure, History            1\n",
      "34                                  Biography, Drama            1\n",
      "35                                            Comedy            3\n",
      "36                              Comedy, Crime, Drama            1\n",
      "37                    Comedy, Crime, Drama, Thriller            1\n",
      "38                                     Comedy, Drama            3\n",
      "39                             Comedy, Drama, Horror            1\n",
      "40                   Comedy, Drama, Musical, Romance            1\n",
      "41                            Comedy, Drama, Romance            3\n",
      "42                                    Comedy, Horror            4\n",
      "43                                   Comedy, Romance            1\n",
      "44                                             Drama            2\n",
      "45                                     Drama, Family            1\n",
      "46                            Drama, Family, Romance            1\n",
      "47                                    Drama, Romance            1\n",
      "48                                            Horror            2\n",
      "49                                  Horror, Thriller            1\n",
      "50                                           Mystery            1\n"
     ]
    }
   ],
   "source": [
    "# 84) Write a query to get genre wise films count in Kollywood Industry? \n",
    "gen_k_films = kollywood_df.groupby('Genre')['Title'].count().reset_index()\n",
    "gen_k_films.columns = ['Genre', 'Total Films']\n",
    "print(gen_k_films)"
   ]
  },
  {
   "cell_type": "code",
   "execution_count": 89,
   "id": "42e1fc90-b3e6-43ef-b03a-23e698ea9aaf",
   "metadata": {},
   "outputs": [
    {
     "name": "stdout",
     "output_type": "stream",
     "text": [
      "                                        Genre  Total Films\n",
      "0                           Action, Adventure            1\n",
      "1            Action, Adventure, Comedy, Drama            1\n",
      "2                    Action, Adventure, Drama            1\n",
      "3           Action, Adventure, Drama, Romance            1\n",
      "4                              Action, Comedy            2\n",
      "5                       Action, Comedy, Drama            2\n",
      "6             Action, Comedy, Drama, Thriller            1\n",
      "7                    Action, Comedy, Thriller            2\n",
      "8     Action, Crime, Drama, Mystery, Thriller            1\n",
      "9              Action, Crime, Drama, Thriller            4\n",
      "10                    Action, Crime, Thriller            2\n",
      "11                              Action, Drama            1\n",
      "12           Action, Drama, Fantasy, Thriller            1\n",
      "13  Action, Drama, Fantasy, Thriller, Western            1\n",
      "14                     Action, Drama, History            1\n",
      "15                Action, Drama, History, War            2\n",
      "16                    Action, Drama, Thriller            6\n",
      "17                  Action, Mystery, Thriller            1\n",
      "18                           Action, Thriller            2\n",
      "19                           Adventure, Drama            1\n",
      "20        Adventure, Drama, Romance, Thriller            1\n",
      "21                 Adventure, Drama, Thriller            1\n",
      "22          Biography, Crime, Drama, Thriller            1\n",
      "23                   Biography, Drama, Family            1\n",
      "24                  Biography, Drama, Romance            1\n",
      "25                                     Comedy            3\n",
      "26                       Comedy, Crime, Drama            2\n",
      "27                              Comedy, Drama            5\n",
      "28                      Comedy, Drama, Family            1\n",
      "29                     Comedy, Drama, Romance            6\n",
      "30                    Comedy, Family, Romance            1\n",
      "31                             Comedy, Horror            1\n",
      "32                            Comedy, Romance            4\n",
      "33                              Comedy, Sport            1\n",
      "34                           Comedy, Thriller            2\n",
      "35            Crime, Drama, Mystery, Thriller            2\n",
      "36                     Crime, Drama, Thriller            1\n",
      "37                   Crime, Mystery, Thriller            2\n",
      "38                            Crime, Thriller            1\n",
      "39                                      Drama            2\n",
      "40                             Drama, Fantasy            1\n",
      "41                    Drama, Horror, Thriller            1\n",
      "42                    Drama, Musical, Romance            1\n",
      "43                   Drama, Mystery, Thriller            1\n",
      "44                            Drama, Thriller            4\n",
      "45                  Horror, Mystery, Thriller            2\n",
      "46                                    Mystery            1\n"
     ]
    }
   ],
   "source": [
    "# 85) Write a query to get genre wise films count in Mollywood Industry? \n",
    "gen_m_films = mollywood_df.groupby('Genre')['Title'].count().reset_index()\n",
    "gen_m_films.columns = ['Genre', 'Total Films']\n",
    "print(gen_m_films)"
   ]
  },
  {
   "cell_type": "code",
   "execution_count": 90,
   "id": "92c82d91-1456-423d-bfda-e3102b4d107c",
   "metadata": {},
   "outputs": [
    {
     "name": "stdout",
     "output_type": "stream",
     "text": [
      "                                                Genre  Total Films\n",
      "0                                   Action, Adventure            1\n",
      "1                           Action, Adventure, Comedy            2\n",
      "2                    Action, Adventure, Comedy, Drama            1\n",
      "3   Action, Adventure, Comedy, Drama, Fantasy, Sci-Fi            1\n",
      "4           Action, Adventure, Comedy, Drama, Romance            1\n",
      "..                                                ...          ...\n",
      "88                                       Drama, Sport            3\n",
      "89                                    Drama, Thriller            1\n",
      "90                                         Drama, War            1\n",
      "91                          Horror, Mystery, Thriller            1\n",
      "92                                  Mystery, Thriller            1\n",
      "\n",
      "[93 rows x 2 columns]\n"
     ]
    }
   ],
   "source": [
    "# 86) Write a query to get genre wise films count in Bollywood Industry? \n",
    "gen_b_films = bollywood_df.groupby('Genre')['Title'].count().reset_index()\n",
    "gen_b_films.columns = ['Genre', 'Total Films']\n",
    "print(gen_b_films)"
   ]
  },
  {
   "cell_type": "code",
   "execution_count": 91,
   "id": "1fea7ecc-bc0f-419c-b6e9-6de6d7bf7823",
   "metadata": {},
   "outputs": [
    {
     "name": "stdout",
     "output_type": "stream",
     "text": [
      "                                        Genre  Total Films\n",
      "0                                      Action            4\n",
      "1   Action, Adventure, Comedy, Drama, Fantasy            1\n",
      "2          Action, Adventure, Drama, Thriller            1\n",
      "3                       Action, Comedy, Drama            1\n",
      "4                     Action, Comedy, Musical            1\n",
      "5                               Action, Crime            3\n",
      "6     Action, Crime, Drama, Mystery, Thriller            1\n",
      "7              Action, Crime, Drama, Thriller            3\n",
      "8                     Action, Crime, Thriller            2\n",
      "9                               Action, Drama            5\n",
      "10                     Action, Drama, Romance            2\n",
      "11                       Action, Drama, Sport            1\n",
      "12                    Action, Drama, Thriller            1\n",
      "13                            Action, Romance            1\n",
      "14                           Action, Thriller            2\n",
      "15                   Adventure, Comedy, Drama            1\n",
      "16                             Drama, Romance            1\n",
      "17                               History, War            1\n"
     ]
    }
   ],
   "source": [
    "# 87) Write a query to get genre wise films count in Sandalwood Industry? \n",
    "gen_s_films = sandalwood_df.groupby('Genre')['Title'].count().reset_index()\n",
    "gen_s_films.columns = ['Genre', 'Total Films']\n",
    "print(gen_s_films)"
   ]
  },
  {
   "cell_type": "code",
   "execution_count": 92,
   "id": "ae224c33-011a-486b-9eae-681223315341",
   "metadata": {},
   "outputs": [
    {
     "name": "stdout",
     "output_type": "stream",
     "text": [
      "      Lead Actor/Actress                                    Genre  Total Films\n",
      "0             Aamir Khan          Action, Biography, Drama, Sport            1\n",
      "1             Aamir Khan                    Comedy, Drama, Sci-Fi            1\n",
      "2            Adah Sharma                                    Drama            1\n",
      "3      Aditya Roy Kapoor  Action, Crime, Drama, Romance, Thriller            1\n",
      "4             Adivi Sesh       Action, Biography, Drama, Thriller            1\n",
      "..                   ...                                      ...          ...\n",
      "537          Yami Gautam                  Action, Drama, Thriller            1\n",
      "538                 Yash           Action, Crime, Drama, Thriller            2\n",
      "539                 Yash                   Action, Drama, Romance            1\n",
      "540          Zaira Wasim                             Drama, Music            1\n",
      "541  amantha Ruth Prabhu          Action, Crime, Sci-Fi, Thriller            1\n",
      "\n",
      "[542 rows x 3 columns]\n"
     ]
    }
   ],
   "source": [
    "# 88) Write a query to get lead actors/actress wise, genre and films count? \n",
    "aa_gen_films = bo.groupby(['Lead_Actor_Actress', 'Genre'])['Title'].count().reset_index()\n",
    "aa_gen_films.columns = ['Lead Actor/Actress', 'Genre', 'Total Films']\n",
    "print(aa_gen_films)"
   ]
  },
  {
   "cell_type": "code",
   "execution_count": 93,
   "id": "d783a4a6-b5fe-4d6a-938a-cd2a9036e5c2",
   "metadata": {},
   "outputs": [
    {
     "name": "stdout",
     "output_type": "stream",
     "text": [
      "    Year  Budget  YoY Budget Growth Percentage\n",
      "0   2014  1820.0                           NaN\n",
      "1   2015  1906.0                          4.73\n",
      "2   2016  2142.0                         12.38\n",
      "3   2017  3291.0                         53.64\n",
      "4   2018  3679.0                         11.79\n",
      "5   2019  2544.0                        -30.85\n",
      "6   2020  1387.0                        -45.48\n",
      "7   2021  1855.0                         33.74\n",
      "8   2022  5722.0                        208.46\n",
      "9   2023  5877.0                          2.71\n",
      "10  2024  4430.0                        -24.62\n"
     ]
    }
   ],
   "source": [
    "# 94) Calculate YoY% Budget growth? \n",
    "year_bud = bo.groupby('Year')['Budget'].sum().reset_index()\n",
    "year_bud['YoY Budget Growth Percentage'] = round(year_bud['Budget'].pct_change() * 100, 2)\n",
    "print(year_bud)"
   ]
  },
  {
   "cell_type": "code",
   "execution_count": 94,
   "id": "95745e5b-3dfa-441b-9f5f-298ba4c5f0ea",
   "metadata": {},
   "outputs": [
    {
     "name": "stdout",
     "output_type": "stream",
     "text": [
      "    Year  Worldwide_Collection  YoY Worldwide Collection Percentage\n",
      "0   2014               4645.00                                  NaN\n",
      "1   2015               5470.20                                17.77\n",
      "2   2016               7088.80                                29.59\n",
      "3   2017               9659.20                                36.26\n",
      "4   2018               8275.30                               -14.33\n",
      "5   2019               8242.72                                -0.39\n",
      "6   2020               2348.75                               -71.51\n",
      "7   2021               2711.65                                15.45\n",
      "8   2022               9853.16                               263.36\n",
      "9   2023              13461.72                                36.62\n",
      "10  2024               8122.29                               -39.66\n"
     ]
    }
   ],
   "source": [
    "# 95) Calculate YoY% Worldwide total collections growth? \n",
    "year_wwc = bo.groupby('Year')['Worldwide_Collection'].sum().reset_index()\n",
    "year_wwc['YoY Worldwide Collection Percentage'] = round(year_wwc['Worldwide_Collection'].pct_change() * 100, 2)\n",
    "print(year_wwc)"
   ]
  },
  {
   "cell_type": "code",
   "execution_count": 95,
   "id": "d6ac0d36-b958-4f29-870f-6be1f24f94d2",
   "metadata": {},
   "outputs": [
    {
     "name": "stdout",
     "output_type": "stream",
     "text": [
      "    Year  India_Gross_Collection  YoY India Gross Collection Percentage\n",
      "0   2014                 3711.10                                    NaN\n",
      "1   2015                 3935.30                                   6.04\n",
      "2   2016                 4459.90                                  13.33\n",
      "3   2017                 6852.90                                  53.66\n",
      "4   2018                 6327.40                                  -7.67\n",
      "5   2019                 6655.58                                   5.19\n",
      "6   2020                 1966.35                                 -70.46\n",
      "7   2021                 2238.40                                  13.84\n",
      "8   2022                 7716.21                                 244.72\n",
      "9   2023                10080.17                                  30.64\n",
      "10  2024                 6120.79                                 -39.28\n"
     ]
    }
   ],
   "source": [
    "# 96) Calculate YoY% Indian Gross collections growth?\n",
    "year_igc = bo.groupby('Year')['India_Gross_Collection'].sum().reset_index()\n",
    "year_igc['YoY India Gross Collection Percentage'] = round(year_igc['India_Gross_Collection'].pct_change() * 100, 2)\n",
    "print(year_igc)"
   ]
  },
  {
   "cell_type": "code",
   "execution_count": null,
   "id": "571447d3-a835-4c3b-8536-6e9fc8d8aaef",
   "metadata": {},
   "outputs": [],
   "source": []
  }
 ],
 "metadata": {
  "kernelspec": {
   "display_name": "Python [conda env:base] *",
   "language": "python",
   "name": "conda-base-py"
  },
  "language_info": {
   "codemirror_mode": {
    "name": "ipython",
    "version": 3
   },
   "file_extension": ".py",
   "mimetype": "text/x-python",
   "name": "python",
   "nbconvert_exporter": "python",
   "pygments_lexer": "ipython3",
   "version": "3.11.5"
  }
 },
 "nbformat": 4,
 "nbformat_minor": 5
}
